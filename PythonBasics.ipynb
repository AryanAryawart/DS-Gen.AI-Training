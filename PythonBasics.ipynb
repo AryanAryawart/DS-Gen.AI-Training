{
  "nbformat": 4,
  "nbformat_minor": 0,
  "metadata": {
    "colab": {
      "provenance": []
    },
    "kernelspec": {
      "name": "python3",
      "display_name": "Python 3"
    },
    "language_info": {
      "name": "python"
    }
  },
  "cells": [
    {
      "cell_type": "code",
      "execution_count": null,
      "metadata": {
        "id": "_pv6BnkdoF2w"
      },
      "outputs": [],
      "source": []
    },
    {
      "cell_type": "markdown",
      "source": [],
      "metadata": {
        "id": "DntBc5H8omMW"
      }
    },
    {
      "cell_type": "markdown",
      "source": [
        "Python Basics Questions\n"
      ],
      "metadata": {
        "id": "Zq-j1qqEoWk6"
      }
    },
    {
      "cell_type": "markdown",
      "source": [
        "Ques1: What is Python, and why is it popular ?\n",
        "\n",
        "Ans: Python is a high-level, interpreted programming language known for its simplicity and readability. It’s popular because of its easy syntax, large standard library, versatility, and strong community support. Python is widely used in fields like web development, data science, and AI. It’s cross-platform and allows rapid development."
      ],
      "metadata": {
        "id": "hxQsDvo_we3u"
      }
    },
    {
      "cell_type": "code",
      "source": [],
      "metadata": {
        "id": "rGBB-BCawdmj"
      },
      "execution_count": null,
      "outputs": []
    },
    {
      "cell_type": "markdown",
      "source": [
        "Ques2: What is an interpreter in Python\n",
        "\n",
        "Ans: An interpreter in Python is a program that reads and executes Python code line by line. Unlike a compiler, which translates the entire code into machine language before execution, an interpreter directly runs the code without converting it into machine code first. This makes Python easier to use for testing and debugging."
      ],
      "metadata": {
        "id": "aF_4VTZZxDWr"
      }
    },
    {
      "cell_type": "code",
      "source": [],
      "metadata": {
        "id": "s6284Lgsxtos"
      },
      "execution_count": null,
      "outputs": []
    },
    {
      "cell_type": "markdown",
      "source": [
        "Ques3: What are pre-defined keywords in Python\n",
        "\n",
        "Ans: Pre-defined keywords in Python are reserved words that have special meaning and cannot be used as identifiers (variable names, function names, etc.). These keywords define the structure and syntax of the language."
      ],
      "metadata": {
        "id": "OhEcLimjxuxt"
      }
    },
    {
      "cell_type": "code",
      "source": [],
      "metadata": {
        "id": "9v-WavFeyjTU"
      },
      "execution_count": null,
      "outputs": []
    },
    {
      "cell_type": "markdown",
      "source": [
        "Ques4: Can keywords be used as variable names\n",
        "\n",
        "Ans:No, keywords cannot be used as variable names in Python. Keywords have predefined meanings in the language, and using them as variable names would result in a syntax error.\n",
        "\n"
      ],
      "metadata": {
        "id": "kxKGBdC5yp1s"
      }
    },
    {
      "cell_type": "markdown",
      "source": [
        "Ques5:What is mutability in Python\n",
        "\n",
        "Ans: Mutability in Python refers to whether an object’s state or value can be changed after it is created.\n",
        "\n",
        "Mutable objects can have their values changed after creation. Examples include:\n",
        "\n",
        "Lists\n",
        "\n",
        "Dictionaries\n",
        "\n",
        "Sets"
      ],
      "metadata": {
        "id": "UOaJ3K8Fyu1y"
      }
    },
    {
      "cell_type": "markdown",
      "source": [
        "Ques6: Why are lists mutable, but tuples are immutable\n",
        "\n",
        "Ans: Lists are mutable because they are designed to hold dynamic, changeable collections of data, allowing operations like appending or modifying elements.\n",
        "\n",
        "Tuples are immutable because they are meant to represent fixed, unchanging data. This ensures data integrity and makes them more memory-efficient and hashable, which allows them to be used as dictionary keys."
      ],
      "metadata": {
        "id": "FFBbA0_3y8Jr"
      }
    },
    {
      "cell_type": "code",
      "source": [],
      "metadata": {
        "id": "1pFkb8QKysBU"
      },
      "execution_count": null,
      "outputs": []
    },
    {
      "cell_type": "markdown",
      "source": [
        "Ques7:What is the difference between “==” and “is” operators in Python\n",
        "\n",
        "Ans:In Python, == and is are both comparison operators, but they have different purposes:\n",
        "1. == (Equality Operator):\n",
        "Checks if the values of two objects are the same.\n",
        "\n",
        "It compares the content of the objects.\n",
        "\n",
        "2. is (Identity Operator):\n",
        "Checks if two objects refer to the same memory location (i.e., they are the same object in memory).\n",
        "\n",
        "It compares the identity of the objects, not their content.\n"
      ],
      "metadata": {
        "id": "wLgNq-RYze6O"
      }
    },
    {
      "cell_type": "markdown",
      "source": [
        "Ques8:What are logical operators in Python\n",
        "\n",
        "Ans:Logical operators in Python:\n",
        "\n",
        "1. and: Returns `True` if both conditions are true.\n",
        "2. or: Returns `True` if at least one condition is true.\n",
        "3. not: Reverses the Boolean value of a condition."
      ],
      "metadata": {
        "id": "MUSSCajz0Cm0"
      }
    },
    {
      "cell_type": "markdown",
      "source": [
        "Ques9:What is type casting in Python\n",
        "\n",
        "Ans: Type casting in Python is the process of converting one data type to another. It allows you to change the type of a variable, such as converting a string to an integer or a float to an integer.\n",
        "\n",
        " Types of type casting:\n",
        "\n",
        "1. Implicit type casting :\n",
        "   - Python automatically converts a lower data type to a higher one e.g. int to float.\n",
        "\n",
        "2. Explicit type casting :\n",
        "   - The programmer manually converts one data type to another using functions like:\n",
        "     - int: Converts to integer\n",
        "     - float: Converts to float\n",
        "     - str: Converts to string\n",
        " Example:\n",
        "- Implicit: 5 + 3.2\n",
        "- Explicit: int(\"10\")"
      ],
      "metadata": {
        "id": "2wQ7oC5w0amd"
      }
    },
    {
      "cell_type": "code",
      "source": [],
      "metadata": {
        "id": "ODpSzHoRz5Y3"
      },
      "execution_count": null,
      "outputs": []
    },
    {
      "cell_type": "markdown",
      "source": [
        "Ques10:What is the difference between implicit and explicit type casting\n",
        "\n",
        "Ans: The difference between implicit and explicit type casting in Python is:\n",
        "\n",
        " 1 Implicit Type Casting :\n",
        "   - Python automatically converts a lower data type to a higher one to prevent data loss.\n",
        "   - It happens automatically when needed.\n",
        "   - Example: Converting int to float when performing arithmetic operations.\n",
        "     - Example: 5 + 3.2 -> Python automatically converts 5 to 5.0 float.\n",
        "\n",
        "2. Explicit Type Casting:\n",
        "   - The programmer manually converts one data type to another using functions like int(), float(), or str().\n",
        "   - Example: Converting a string to an integer.\n",
        "     - Example: int(\"10\") Converts string \"10\"to integer 10.\n",
        "\n"
      ],
      "metadata": {
        "id": "sLa3X9e91SIv"
      }
    },
    {
      "cell_type": "code",
      "source": [],
      "metadata": {
        "id": "bS4mvzHt2Vog"
      },
      "execution_count": null,
      "outputs": []
    },
    {
      "cell_type": "markdown",
      "source": [
        "Ques11:  What is the purpose of conditional statements in Python\n",
        "\n",
        "Ans:  The purpose of conditional statements in Python is to execute different blocks of code based on whether a condition is True or False. They allow you to control the flow of execution in your program, enabling decisions to be made based on logical conditions.\n",
        "\n",
        "Common conditional statements:\n",
        "1. if: Executes a block of code if a condition is true.\n",
        "2. elif: Checks another condition if the previous if condition is false.\n",
        "3. else: Executes a block of code if none of the previous conditions are true.\n",
        " Example use:\n",
        "- Making decisions based on user input or program state.\n",
        "  \n"
      ],
      "metadata": {
        "id": "B9k9g8c_2Wt2"
      }
    },
    {
      "cell_type": "code",
      "source": [],
      "metadata": {
        "id": "_EbyZ5cJ21Pm"
      },
      "execution_count": null,
      "outputs": []
    },
    {
      "cell_type": "markdown",
      "source": [
        "Ques12: How does the elif statement work\n",
        "\n",
        "Ans:The elif short for else if statement in Python allows you to check multiple conditions sequentially after an initial if statement. It lets you handle multiple possible conditions, where each condition is evaluated only if the previous ones are false.\n",
        "\n",
        "How it works:\n",
        "The if statement is checked first.\n",
        "\n",
        "If the if condition is false, the elif condition(s) are checked in order.\n",
        "\n",
        "The else block (if present) will execute if none of the conditions are true.\n",
        "\n"
      ],
      "metadata": {
        "id": "_bU5Pokj22lB"
      }
    },
    {
      "cell_type": "markdown",
      "source": [
        "Ques13: What is the difference between for and while loops\n",
        "\n",
        "Ans: 1. for loop:\n",
        "Purpose: Used when the number of iterations is known in advance or when iterating over a fixed collection e.g., a list, string, or range\n",
        "\n",
        "Control: Iterates over a sequence or range of values. It is typically used when the exact number of repetitions is predetermined or the loop needs to process elements of a collection.\n",
        "\n",
        "Termination: Terminates automatically when the sequence or range is exhausted.\n",
        "\n",
        "2. while loop:\n",
        "Purpose: Used when the number of iterations is not known beforehand and depends on a condition. It repeats until a specific condition becomes false.\n",
        "\n",
        "Control: The loop continues indefinitely as long as the condition evaluates to True. If the condition is initially false, the loop will not execute.\n",
        "\n",
        "Termination: Terminates when the condition becomes false. The condition is checked before each iteration."
      ],
      "metadata": {
        "id": "bFAvh4yb3TDs"
      }
    },
    {
      "cell_type": "code",
      "source": [],
      "metadata": {
        "id": "amz6jxmg3Oah"
      },
      "execution_count": null,
      "outputs": []
    },
    {
      "cell_type": "markdown",
      "source": [
        "Ques14: Describe a scenario where a while loop is more suitable than a for loop\n",
        "\n",
        "Ans: A while loop is more suitable than a for loop in situations where the number of iterations is unknown and depends on a condition that is evaluated during the execution.\n",
        "\n",
        "Scenario: Continuously Monitoring User Input Until Valid Input is Given\n",
        "Imagine you need a program that asks the user to enter a valid email address. The program should keep asking the user for input until a valid email is provided. You don’t know how many attempts the user will need, so the number of iterations is unknown.\n",
        "\n",
        "Why a while loop is suitable:\n",
        "The loop should continue indefinitely until the user enters a valid email.\n",
        "\n",
        "The number of attempts is not predefined, so a while loop is perfect since it keeps running based on the condition being True i.e. the user not entering a valid email\n",
        "\n",
        "Example:\n",
        "python\n",
        "Copy\n",
        "email = \"\"\n",
        "while not is_valid_email(email):  # Condition checks if email is valid\n",
        "   # email = input(\"Enter a valid email: \")\n",
        "#print(\"Valid email entered!\")\n",
        "In this scenario, the while loop will keep running until the condition (is_valid_email(email)) is met, making it the ideal choice over a for loop."
      ],
      "metadata": {
        "id": "J5L6SkuT3rJ2"
      }
    },
    {
      "cell_type": "code",
      "source": [],
      "metadata": {
        "id": "0u7__LrB4tBt"
      },
      "execution_count": null,
      "outputs": []
    },
    {
      "cell_type": "markdown",
      "source": [
        "PRACTICAL QUESTIONS"
      ],
      "metadata": {
        "id": "ppNgoWgF41Le"
      }
    },
    {
      "cell_type": "code",
      "source": [],
      "metadata": {
        "id": "KGI7gQy644wg"
      },
      "execution_count": null,
      "outputs": []
    },
    {
      "cell_type": "code",
      "source": [
        "#ques1: Write a Python program to print \"Hello, World!\n",
        "print(\"Hello, World!\")"
      ],
      "metadata": {
        "colab": {
          "base_uri": "https://localhost:8080/"
        },
        "id": "WZFmfsbU46tP",
        "outputId": "c6c201cd-94da-43d3-d429-87d25cfb73f4"
      },
      "execution_count": 2,
      "outputs": [
        {
          "output_type": "stream",
          "name": "stdout",
          "text": [
            "Hello, World!\n"
          ]
        }
      ]
    },
    {
      "cell_type": "code",
      "source": [
        "#ques2: Write a Python program that displays your name and age\n",
        "\n",
        "name = \"Ajay sir\"\n",
        "age = 25\n",
        "\n",
        "\n",
        "print(\"Name:\", name)\n",
        "print(\"Age:\", age)\n"
      ],
      "metadata": {
        "colab": {
          "base_uri": "https://localhost:8080/"
        },
        "id": "AZ-JVuEv5Kqp",
        "outputId": "53da13e5-a9c3-4974-ff25-f98835199398"
      },
      "execution_count": 3,
      "outputs": [
        {
          "output_type": "stream",
          "name": "stdout",
          "text": [
            "Name: Ajay sir\n",
            "Age: 25\n"
          ]
        }
      ]
    },
    {
      "cell_type": "code",
      "source": [
        "#ques3: Write code to print all the pre-defined keywords in Python using the keyword library\n",
        "\n",
        "import keyword\n",
        "\n",
        "print(\"Python Keywords:\", keyword.kwlist)"
      ],
      "metadata": {
        "colab": {
          "base_uri": "https://localhost:8080/"
        },
        "id": "Vz_pUQk15bcH",
        "outputId": "f30ba885-3401-4fab-884b-c6ad3bad6d83"
      },
      "execution_count": 4,
      "outputs": [
        {
          "output_type": "stream",
          "name": "stdout",
          "text": [
            "Python Keywords: ['False', 'None', 'True', 'and', 'as', 'assert', 'async', 'await', 'break', 'class', 'continue', 'def', 'del', 'elif', 'else', 'except', 'finally', 'for', 'from', 'global', 'if', 'import', 'in', 'is', 'lambda', 'nonlocal', 'not', 'or', 'pass', 'raise', 'return', 'try', 'while', 'with', 'yield']\n"
          ]
        }
      ]
    },
    {
      "cell_type": "code",
      "source": [
        "#ques4: Write a program that checks if a given word is a Python keyword.\n",
        "\n",
        "import keyword\n",
        "\n",
        "\n",
        "word = input(\"Enter a word to check if it is a Python keyword: \")\n",
        "\n",
        "if keyword.iskeyword(word):\n",
        "    print(f\"'{word}' is a Python keyword.\")\n",
        "else:\n",
        "    print(f\"'{word}' is not a Python keyword.\")\n"
      ],
      "metadata": {
        "colab": {
          "base_uri": "https://localhost:8080/"
        },
        "id": "tSAe2dEA5wLa",
        "outputId": "a0bfff1b-e04e-4fca-b37e-84e2f20a075a"
      },
      "execution_count": 5,
      "outputs": [
        {
          "output_type": "stream",
          "name": "stdout",
          "text": [
            "Enter a word to check if it is a Python keyword: in\n",
            "'in' is a Python keyword.\n"
          ]
        }
      ]
    },
    {
      "cell_type": "code",
      "source": [
        "#ques5:Create a list and tuple in Python, and demonstrate how attempting to change an element works differently\n",
        "#for each.\n",
        "\n",
        "\n",
        "my_list = [1, 2, 3, 4]\n",
        "my_tuple = (1, 2, 3, 4)\n",
        "\n",
        "\n",
        "print(\"Original List:\", my_list)\n",
        "my_list[2] = 99\n",
        "print(\"Modified List:\", my_list)\n",
        "\n",
        "\n",
        "print(\"\\nOriginal Tuple:\", my_tuple)\n",
        "try:\n",
        "    my_tuple[2] = 99\n",
        "except TypeError as e:\n",
        "    print(\"Error while modifying tuple:\", e)\n"
      ],
      "metadata": {
        "colab": {
          "base_uri": "https://localhost:8080/"
        },
        "id": "jdB9lX1f5-1u",
        "outputId": "4183ce30-bfd2-416f-ff53-875212c01d69"
      },
      "execution_count": 6,
      "outputs": [
        {
          "output_type": "stream",
          "name": "stdout",
          "text": [
            "Original List: [1, 2, 3, 4]\n",
            "Modified List: [1, 2, 99, 4]\n",
            "\n",
            "Original Tuple: (1, 2, 3, 4)\n",
            "Error while modifying tuple: 'tuple' object does not support item assignment\n"
          ]
        }
      ]
    },
    {
      "cell_type": "code",
      "source": [
        "#ques6: Write a function to demonstrate the behavior of mutable and immutable arguments\n",
        "\n",
        "def test_mutability(immutable, mutable):\n",
        "    immutable += 1\n",
        "    mutable.append(4)\n",
        "\n",
        "\n",
        "x = 10\n",
        "y = [1, 2, 3]\n",
        "test_mutability(x, y)\n",
        "\n",
        "print(\"Outside function - Immutable:\", x)\n",
        "print(\"Outside function - Mutable:\", y)\n"
      ],
      "metadata": {
        "colab": {
          "base_uri": "https://localhost:8080/"
        },
        "id": "PdQ48zl76arS",
        "outputId": "92523c59-7084-4cbd-fb72-3b44a549bcc2"
      },
      "execution_count": 7,
      "outputs": [
        {
          "output_type": "stream",
          "name": "stdout",
          "text": [
            "Outside function - Immutable: 10\n",
            "Outside function - Mutable: [1, 2, 3, 4]\n"
          ]
        }
      ]
    },
    {
      "cell_type": "code",
      "source": [
        "#ques7: Write a program that performs basic arithmetic operations on two user-input numbers\n",
        "\n",
        "\n",
        "num1 = float(input(\"Enter the first number: \"))\n",
        "num2 = float(input(\"Enter the second number: \"))\n",
        "\n",
        "addition = num1 + num2\n",
        "subtraction = num1 - num2\n",
        "multiplication = num1 * num2\n",
        "division = num1 / num2 if num2 != 0 else \"Cannot divide by zero\"\n",
        "\n",
        "\n",
        "print(f\"Addition: {num1} + {num2} = {addition}\")\n",
        "print(f\"Subtraction: {num1} - {num2} = {subtraction}\")\n",
        "print(f\"Multiplication: {num1} * {num2} = {multiplication}\")\n",
        "print(f\"Division: {num1} / {num2} = {division}\")\n"
      ],
      "metadata": {
        "colab": {
          "base_uri": "https://localhost:8080/"
        },
        "id": "mI32z_tm6w3A",
        "outputId": "2395df4d-52c1-47bf-ce78-a3a414ccdbda"
      },
      "execution_count": 9,
      "outputs": [
        {
          "output_type": "stream",
          "name": "stdout",
          "text": [
            "Enter the first number: 34\n",
            "Enter the second number: 45\n",
            "Addition: 34.0 + 45.0 = 79.0\n",
            "Subtraction: 34.0 - 45.0 = -11.0\n",
            "Multiplication: 34.0 * 45.0 = 1530.0\n",
            "Division: 34.0 / 45.0 = 0.7555555555555555\n"
          ]
        }
      ]
    },
    {
      "cell_type": "code",
      "source": [
        "#ques8: Write a program to demonstrate the use of logical operators.\n",
        "\n",
        "\n",
        "x = int(input(\"Enter the first number: \"))\n",
        "y = int(input(\"Enter the second number: \"))\n",
        "\n",
        "if x > 0 and y > 0:\n",
        "    print(\"Both numbers are positive.\")\n",
        "\n",
        "\n",
        "if x > 0 or y > 0:\n",
        "    print(\"At least one number is positive.\")\n",
        "\n",
        "\n",
        "if not (x < 0):\n",
        "    print(\"The first number is not negative.\")\n",
        "\n",
        "if not (y < 0):\n",
        "    print(\"The second number is not negative.\")\n"
      ],
      "metadata": {
        "colab": {
          "base_uri": "https://localhost:8080/"
        },
        "id": "6l09-8jg6-xo",
        "outputId": "e6b86416-1354-412f-8425-4ffbe03d7e1a"
      },
      "execution_count": 11,
      "outputs": [
        {
          "output_type": "stream",
          "name": "stdout",
          "text": [
            "Enter the first number: 34\n",
            "Enter the second number: 65\n",
            "Both numbers are positive.\n",
            "At least one number is positive.\n",
            "The first number is not negative.\n",
            "The second number is not negative.\n"
          ]
        }
      ]
    },
    {
      "cell_type": "code",
      "source": [
        "#ques9:  Write a Python program to convert user input from string to integer, float, and boolean types.\n",
        "\n",
        "user_input = input(\"Enter a value: \")\n",
        "\n",
        "\n",
        "if user_input.isdigit():\n",
        "    integer_value = int(user_input)\n",
        "    print(f\"Converted to integer: {integer_value}\")\n",
        "else:\n",
        "    print(\"Cannot convert to integer.\")\n",
        "\n",
        "if user_input.replace('.', '', 1).isdigit() and user_input.count('.') <= 1:\n",
        "    float_value = float(user_input)\n",
        "    print(f\"Converted to float: {float_value}\")\n",
        "else:\n",
        "    print(\"Cannot convert to float.\")\n",
        "\n",
        "boolean_value = bool(user_input)\n",
        "print(f\"Converted to boolean: {boolean_value}\")\n"
      ],
      "metadata": {
        "colab": {
          "base_uri": "https://localhost:8080/"
        },
        "id": "EDuYOVKJ7hBb",
        "outputId": "9ebd8134-b86a-441a-c284-dc0cbe5f715d"
      },
      "execution_count": 15,
      "outputs": [
        {
          "output_type": "stream",
          "name": "stdout",
          "text": [
            "Enter a value: 24\n",
            "Converted to integer: 24\n",
            "Converted to float: 24.0\n",
            "Converted to boolean: True\n"
          ]
        }
      ]
    },
    {
      "cell_type": "code",
      "source": [
        "#ques10:Write code to demonstrate type casting with list elements.\n",
        "\n",
        "\n",
        "\n",
        "my_list = [1, \"2\", 3.0, \"4.5\"]\n",
        "\n",
        "int_list = [int(x) for x in my_list if isinstance(x, (int, float)) or (isinstance(x,str) and x.isdigit())]\n",
        "print(\"List after type casting to integer:\", int_list)\n",
        "\n",
        "\n",
        "float_list = [float(x) for x in my_list if isinstance(x,(int, float)) or (isinstance(x,str) and x.replace('.', '', 1).isdigit() and x.count('.') <=1)]\n",
        "print(\"List after type casting to float:\", float_list)\n",
        "\n",
        "\n",
        "string_list = [str(x) for x in my_list]\n",
        "print(\"List after type casting to string:\", string_list)\n",
        "\n"
      ],
      "metadata": {
        "colab": {
          "base_uri": "https://localhost:8080/"
        },
        "id": "kPk1BUps-jPp",
        "outputId": "d60a0522-1b20-4200-bd6a-4ba3e5c93c86"
      },
      "execution_count": 29,
      "outputs": [
        {
          "output_type": "stream",
          "name": "stdout",
          "text": [
            "List after type casting to integer: [1, 2, 3]\n",
            "List after type casting to float: [1.0, 2.0, 3.0, 4.5]\n",
            "List after type casting to string: ['1', '2', '3.0', '4.5']\n"
          ]
        }
      ]
    },
    {
      "cell_type": "code",
      "source": [
        "#ques11: Write a program that checks if a number is positive, negative, or zero.\n",
        "\n",
        "\n",
        "\n",
        "number = float(input(\"Enter a number: \"))\n",
        "\n",
        "if number > 0:\n",
        "    print(\"The number is positive.\")\n",
        "elif number < 0:\n",
        "    print(\"The number is negative.\")\n",
        "else:\n",
        "    print(\"The number is zero.\")\n"
      ],
      "metadata": {
        "colab": {
          "base_uri": "https://localhost:8080/"
        },
        "id": "GWL00H0P_Axc",
        "outputId": "d0fd2b41-1b9c-4888-f47f-818ba7d857f6"
      },
      "execution_count": 21,
      "outputs": [
        {
          "output_type": "stream",
          "name": "stdout",
          "text": [
            "Enter a number: 4156\n",
            "The number is positive.\n"
          ]
        }
      ]
    },
    {
      "cell_type": "code",
      "source": [
        "#ques12:  Write a for loop to print numbers from 1 to 10.\n",
        "\n",
        "\n",
        "for i in range(1, 11):\n",
        "    print(i)\n"
      ],
      "metadata": {
        "colab": {
          "base_uri": "https://localhost:8080/"
        },
        "id": "yWoDZrql_vI5",
        "outputId": "6f2e801b-d6a0-43e0-dd81-45a85dc9f440"
      },
      "execution_count": 22,
      "outputs": [
        {
          "output_type": "stream",
          "name": "stdout",
          "text": [
            "1\n",
            "2\n",
            "3\n",
            "4\n",
            "5\n",
            "6\n",
            "7\n",
            "8\n",
            "9\n",
            "10\n"
          ]
        }
      ]
    },
    {
      "cell_type": "code",
      "source": [
        "#ques13: Write a Python program to find the sum of all even numbers between 1 and 50.\n",
        "\n",
        "\n",
        "sum_even = 0\n",
        "\n",
        "\n",
        "for num in range(1, 51):\n",
        "\n",
        "    if num % 2 == 0:\n",
        "        sum_even += num\n",
        "\n",
        "print(\"The sum of all even numbers between 1 and 50 is:\", sum_even)\n"
      ],
      "metadata": {
        "colab": {
          "base_uri": "https://localhost:8080/"
        },
        "id": "S_jn1213_7aK",
        "outputId": "f6870ce0-d302-43f6-afe7-26ed38f814ff"
      },
      "execution_count": 23,
      "outputs": [
        {
          "output_type": "stream",
          "name": "stdout",
          "text": [
            "The sum of all even numbers between 1 and 50 is: 650\n"
          ]
        }
      ]
    },
    {
      "cell_type": "code",
      "source": [
        "#ques14: Write a program to reverse a string using a while loop\n",
        "\n",
        "\n",
        "string = input(\"Enter a string: \")\n",
        "reversed_string = \"\"\n",
        "index = len(string) - 1\n",
        "while index >= 0:\n",
        "    reversed_string += string[index]\n",
        "    index -= 1\n",
        "print(\"Reversed string:\", reversed_string)\n"
      ],
      "metadata": {
        "colab": {
          "base_uri": "https://localhost:8080/"
        },
        "id": "YjzqVqMaAJ4E",
        "outputId": "69a6155e-8842-470f-cbcd-6400dc4a85ec"
      },
      "execution_count": 24,
      "outputs": [
        {
          "output_type": "stream",
          "name": "stdout",
          "text": [
            "Enter a string: 435\n",
            "Reversed string: 534\n"
          ]
        }
      ]
    },
    {
      "cell_type": "code",
      "source": [
        "#ques15: Write a Python program to calculate the factorial of a number provided by the user using a while loop\n",
        "\n",
        "\n",
        "number = int(input(\"Enter a number: \"))\n",
        "factorial = 1\n",
        "i = 1\n",
        "while i <= number:\n",
        "    factorial *= i\n",
        "    i += 1\n",
        "print(f\"The factorial of {number} is: {factorial}\")\n"
      ],
      "metadata": {
        "colab": {
          "base_uri": "https://localhost:8080/"
        },
        "id": "vUBlPMKXATvW",
        "outputId": "d3fa5b0e-b2d5-4270-ffbf-bc630cccea2d"
      },
      "execution_count": 26,
      "outputs": [
        {
          "output_type": "stream",
          "name": "stdout",
          "text": [
            "Enter a number: 5\n",
            "The factorial of 5 is: 120\n"
          ]
        }
      ]
    },
    {
      "cell_type": "code",
      "source": [],
      "metadata": {
        "id": "DPB0wPPYAg60"
      },
      "execution_count": 25,
      "outputs": []
    }
  ]
}