{
  "nbformat": 4,
  "nbformat_minor": 0,
  "metadata": {
    "colab": {
      "provenance": []
    },
    "kernelspec": {
      "name": "python3",
      "display_name": "Python 3"
    },
    "language_info": {
      "name": "python"
    }
  },
  "cells": [
    {
      "cell_type": "code",
      "execution_count": null,
      "metadata": {
        "id": "XIuGVKJODQEy"
      },
      "outputs": [],
      "source": []
    },
    {
      "cell_type": "markdown",
      "source": [
        "**Theoretical Questions**"
      ],
      "metadata": {
        "id": "Lt5GO75QDtk3"
      }
    },
    {
      "cell_type": "markdown",
      "source": [
        "Ques1-\n",
        "\n",
        "Ans-1\n",
        "\n",
        "Compiled Languages:\n",
        "- The code is translated into machine code by a compiler before it runs.\n",
        "- Once compiled, the program runs directly on the system’s hardware.\n",
        "- Faster execution because it's already translated.\n",
        "- Example languages: C, C++, Rust, Go\n",
        "\n",
        "Characteristics:\n",
        "- Needs a full compilation before execution.\n",
        "- Produces a separate executable file (.exe, .out).\n",
        "- Errors are shown after compilation.\n",
        "\n",
        "\n",
        "Interpreted Languages:\n",
        "- Code is executed line-by-line by an interpreter at runtime.\n",
        "- No separate executable is created.\n",
        "- Slower execution, but easier to debug and test.\n",
        "- Example languages: Python\n",
        "\n",
        "Characteristics:\n",
        "- Executes code directly.\n",
        "- Good for scripting and rapid development.\n",
        "- Errors show as the code runs.\n",
        "\n",
        "python is an Interpreted Language\n",
        "- Python code is compiled to bytecode (.pyc), and then the Python interpreter executes it.\n",
        "- This makes development flexible and easier to test.\n"
      ],
      "metadata": {
        "id": "YczMutIED6Vz"
      }
    },
    {
      "cell_type": "markdown",
      "source": [
        "Ques2:\n",
        "\n",
        "Ans: Exception handling in Python is the process of managing errors that occur during the execution of a program. These errors, known as exceptions, can disrupt the normal flow of the program if not handled properly."
      ],
      "metadata": {
        "id": "gowYs34MH8O6"
      }
    },
    {
      "cell_type": "markdown",
      "source": [
        "Ques3:\n",
        "\n",
        "Ans:  The finally block in Python is used to define a section of code that will always execute, regardless of whether an exception occurred in the try block or not.\n",
        "\n"
      ],
      "metadata": {
        "id": "A9Lq3odBICQf"
      }
    },
    {
      "cell_type": "markdown",
      "source": [
        "Ques4:\n",
        "\n",
        "Ans: Logging in Python refers to the process of recording messages about a program’s execution. These messages can provide insight into what the program is doing, help with debugging, and record errors or other important events.\n",
        "\n",
        "Python provides a built-in logging module to handle logging tasks efficiently."
      ],
      "metadata": {
        "id": "WXcErFX4IaKh"
      }
    },
    {
      "cell_type": "markdown",
      "source": [
        "Ques5:\n",
        "\n",
        "Ans:  The __del__ method in Python is a special (magic) method called a destructor. It is automatically invoked when an object is about to be destroyed, i.e., when it is garbage collected and its reference count drops to zero.\n",
        "\n",
        "Purpose:\n",
        "The main purpose of __del__ is to perform cleanup actions before the object is removed from memory.\n",
        "\n",
        "This can include tasks like:\n",
        "\n",
        "Closing files or database connections\n",
        "\n",
        "Releasing network resources\n",
        "\n",
        "Printing a message for debugging\n",
        "\n"
      ],
      "metadata": {
        "id": "vruacyEXI0nK"
      }
    },
    {
      "cell_type": "markdown",
      "source": [
        "Ques6:\n",
        "\n",
        "Ans:\n",
        "\n",
        "import:\n",
        "\n",
        "- Imports the entire module.\n",
        "\n",
        "\n",
        "- Requires the module name as a prefix (e.g., module_name.function()).\n",
        "\n",
        "\n",
        "- Uses the module name as the namespace (e.g., math.sqrt() if math is imported).\n",
        "\n",
        "\n",
        "- Memory-Imports the whole module into memory, which may use more space.\n",
        "\n",
        "from.....import:\n",
        "\n",
        "- Imports specific items from the module.\n",
        "\n",
        "- Direct access to the imported items (e.g., function() without module name).\n",
        "\n",
        "- No need for module name as prefix.\n",
        "\n",
        "- Only imports the specific items, saving memory.\n",
        "\n"
      ],
      "metadata": {
        "id": "AHJnUpzBJtx5"
      }
    },
    {
      "cell_type": "markdown",
      "source": [
        "Ques7:\n",
        "\n",
        "Ans:  \n",
        "\n",
        " 1. Handling Multiple Exceptions with Multiple except Blocks:\n",
        "In Python, you can use multiple except blocks to handle different types of exceptions separately. This allows you to define custom handling logic for each exception type. Each except block will check for a specific exception, and if that exception occurs, the associated block will be executed.\n",
        "\n",
        " 2. Catching Multiple Exceptions in a Single except Block:\n",
        "Python allows you to catch multiple exceptions in a single except block by grouping them together using a tuple. This can be useful when the handling logic for multiple exceptions is the same. Instead of writing multiple except blocks, you can catch several exceptions in one, simplifying the code.\n",
        "\n",
        " 3. Catching All Exceptions Using the Exception Class:\n",
        "You can catch any exception that is derived from the Exception class. This is useful if you're unsure of what specific exceptions might occur. However, this is generally not recommended because it may hide unexpected issues, making debugging more difficult. It's typically better to catch specific exceptions whenever possible.\n",
        "\n",
        "4. Using else and finally with Exceptions:- The else block runs if no exception is raised in the try block. This is useful for code that should only run when the try block completes successfully (without errors).\n",
        "- The finally block will always execute, regardless of whether an exception occurs or not. It is commonly used for cleanup actions, such as closing files or releasing resources.\n",
        "\n"
      ],
      "metadata": {
        "id": "qz2xCKxdLvPh"
      }
    },
    {
      "cell_type": "markdown",
      "source": [
        "Ques8:\n",
        "\n",
        "Ans: The with statement in Python is used to wrap the execution of a block of code, and it is often employed when working with files to ensure that resources are properly managed. Specifically, it is used for file handling to simplify the process of opening and closing files, and to ensure that files are automatically closed once they are no longer needed, even if an error occurs."
      ],
      "metadata": {
        "id": "aRqgbAEqN8vJ"
      }
    },
    {
      "cell_type": "markdown",
      "source": [
        "Ques9:\n",
        "\n",
        "Ans:  Multithreding:\n",
        "\n",
        "-  Concurrent (shared memory within a process)\n",
        "\n",
        "-  Lower memory overhead (shared memory)\n",
        "\n",
        "-  I/O-bound tasks (e.g., network, file operations)\n",
        "\n",
        "-  Affected by the Global Interpreter Lock (GIL), so can't fully leverage multiple CPU cores for CPU-bound tasks\n",
        "\n",
        "-  Concurrency (threads run concurrently, but not necessarily simultaneously)\n",
        "\n",
        "-  Not ideal for CPU-heavy tasks due to GIL\n",
        "\n",
        "-  \tLower overhead (lightweight threads)\n",
        "\n",
        "Multiprocessing:\n",
        "\n",
        "-  Parallel (separate memory space for each process)\n",
        "\n",
        "-  Higher memory overhead (separate memory for each process)\n",
        "\n",
        "-  CPU-bound tasks (e.g., mathematical computation, data processing)\n",
        "\n",
        "-  Can achieve true parallelism by using multiple CPU cores\n",
        "\n",
        "-  True Parallelism (multiple processes run simultaneously)\n",
        "\n",
        "-  Best for CPU-heavy tasks (bypasses GIL, uses multiple cores)\n",
        "\n",
        "-\tHigher overhead (due to separate processes)"
      ],
      "metadata": {
        "id": "nyk2rkKiObi1"
      }
    },
    {
      "cell_type": "markdown",
      "source": [
        "Ques10:\n",
        "-  Better Debugging and Troubleshooting:\n",
        "\n",
        "Logging provides a systematic way to record runtime events, errors, and system states, which can be crucial for debugging. By examining log files, you can trace the flow of the program and identify exactly where and why an error occurred.\n",
        "\n",
        "-  Error Tracking and Monitoring:\n",
        "\n",
        "With proper logging, you can track when and where errors happen, making it easier to identify patterns or recurring issues in your application. This helps in monitoring the health of the system.\n",
        "\n",
        "-  Record of Events:\n",
        "\n",
        "Logs provide a historical record of important events in your application, such as user actions, file access, and system processes. This is important for both operational insights and post-mortem analysis.\n",
        "\n",
        "-  Helps in Production Environment:\n",
        "\n",
        "In production systems, you might not have the luxury of running the application in a debugger. Logs allow you to track how the program behaves in a live environment and catch issues that may only surface under certain conditions.\n",
        "\n",
        "-  Customizable Log Levels:\n",
        "\n",
        "Logging in Python supports different levels of messages (e.g., DEBUG, INFO, WARNING, ERROR, CRITICAL), allowing you to filter and control the amount of detail in the logs. For example, you can use DEBUG during development and change it to ERROR in production to reduce verbosity.\n",
        "Ans:"
      ],
      "metadata": {
        "id": "pd9J4KawOkI1"
      }
    },
    {
      "cell_type": "markdown",
      "source": [
        "Ques11:\n",
        "\n",
        "Ans: Memory management in Python refers to the process of efficiently managing the allocation and deallocation of memory for objects used in a Python program. Python handles memory management automatically through an internal system that includes techniques like reference counting and garbage collection."
      ],
      "metadata": {
        "id": "jKhBybr-QVOd"
      }
    },
    {
      "cell_type": "markdown",
      "source": [
        "Ques12:\n",
        "\n",
        "Ans:\n",
        "\n",
        "-   exception handling is the process of dealing with errors that may occur while a program is running. The basic steps involved begin with using the try block. Inside the try block, you write the code that might cause an error. If an error happens during the execution of that code, Python immediately stops running the code in the try block and moves to the except block.\n",
        "\n",
        "- The except block is where you handle the error. You can have one or more except blocks to handle different types of exceptions, depending on what kind of errors you expect might occur.\n",
        "\n",
        "\n",
        "\n"
      ],
      "metadata": {
        "id": "nCivrHfmQjVk"
      }
    },
    {
      "cell_type": "markdown",
      "source": [
        "Ques13:\n",
        "\n",
        "Ans:\n",
        "\n",
        " Memory management is important in Python because it ensures that the program uses system memory efficiently and avoids common problems like memory leaks, crashes, or slow performance.\n",
        "\n",
        "When a Python program runs, it creates many objects—like variables, data structures, and functions—which all use memory. If memory is not managed properly, the program may consume more memory than necessary, which can slow down the system or even cause the program to stop working.\n",
        "\n",
        "Python automatically handles memory management through features like reference counting and garbage collection. These systems make sure that memory used by objects is freed when it is no longer needed. However, understanding memory management is still important for developers so they can write efficient code, avoid unnecessary memory usage, and handle large-scale applications better.\n",
        "\n"
      ],
      "metadata": {
        "id": "fLbAJi_ARcPt"
      }
    },
    {
      "cell_type": "markdown",
      "source": [
        "Ques 14:\n",
        "\n",
        "Ans:  \n",
        "\n",
        "-  The try and except blocks play a key role in Python's exception handling by allowing the program to manage errors without crashing.\n",
        "\n",
        "-  The try block is used to write the code that might cause an error during execution. Python will attempt to run the code inside the try block. If everything works correctly, it moves on normally. But if an error occurs, Python immediately stops running the try block and jumps to the except block.\n",
        "\n",
        "-  The except block contains the code that runs when an exception is caught. This block handles the error gracefully for example, by showing an error message or taking a corrective action so that the program can continue running instead of stopping suddenly.\n",
        "\n",
        ""
      ],
      "metadata": {
        "id": "qmMibSuoR_PF"
      }
    },
    {
      "cell_type": "markdown",
      "source": [
        "Ques 15:\n",
        "\n",
        "Ans:\n",
        "\n",
        "1. Reference Counting\n",
        "   - Every object keeps track of how many variables point to it.  \n",
        "   - If nothing is using the object anymore (count is 0), it gets deleted.\n",
        "\n",
        "2. The Problem: Loops (Cycles)  \n",
        "   - Sometimes objects point to each other (like A → B and B → A).  \n",
        "   - Even if nothing else uses them, their reference count isn't zero.  \n",
        "   - Python can't delete them using just reference counting.\n",
        "\n",
        "3. Solution: Garbage Collector (GC)  \n",
        "   - Python has a special cleanerthat checks for these loops.  \n",
        "   - It looks for groups of objects that no one else is using.  \n",
        "   - If it finds any, it deletes them.\n",
        "\n",
        "4. Generations\n",
        "   - Python groups objects by age: new, middle, old.  \n",
        "   - It checks new objects more often since most garbage is short-lived.  \n",
        "   - Older objects are checked less often to save time.\n",
        "\n"
      ],
      "metadata": {
        "id": "nOfsA9ZOStmY"
      }
    },
    {
      "cell_type": "markdown",
      "source": [
        "Ques16:\n",
        "\n",
        "Ans:\n",
        "\n",
        "Purpose of the else block in Exception Handling\n",
        "\n",
        "In exception handling, the else block is used to specify a block of code that will execute only if no exceptions were raised in the try block.\n",
        "\n",
        "Key Points:\n",
        "1. Occurs After the try Block: The else block runs only if no exception occurs in the try block.\n",
        "2. Separates Normal Flow and Error Handling: It helps to keep the error handling (in the except block) separate from the normal program flow (in the else block).\n",
        "3. Optional: The else block is not mandatory in exception handling. It can be comitted if you do not need any specific code to execute after a successful try block.\n",
        "\n",
        "Why Use an else Block:\n",
        "- It allows you to write code that should only run when no exceptions occur, which can make your program clearer and more organized.\n",
        "- It avoids placing non-error code in the except block (which should only handle exceptions), improving the structure of the code.\n",
        "\n",
        "Where It Fits:\n",
        "- The else block is placed after all except blocks.\n",
        "- It is executed only if no exception is raised in the try block, which ensures that the code inside the else block is executed for normal flow only.\n",
        "\n"
      ],
      "metadata": {
        "id": "ImtvkjX9TkqF"
      }
    },
    {
      "cell_type": "markdown",
      "source": [
        "Ques 17:\n",
        "\n",
        "Ans:\n",
        "\n",
        "\n",
        "\n",
        "Common Logging Levels in Python:\n",
        "\n",
        "1. DEBUG:\n",
        "   -  The lowest level of logging. Used for detailed information, typically useful only for diagnosing problems.\n",
        "   - For detailed, verbose output, often used during development.\n",
        "   - e.g. Debugging messages, variable values, etc.\n",
        "\n",
        "   \n",
        "2. INFO:\n",
        "   - Description: Used for general information about the program's execution. These messages indicate that things are working as expected.\n",
        "   - Typical Use: To track the flow of the application and important milestones.\n",
        "   - e.g.: Program initialization, important configuration steps.\n",
        "\n",
        "\n",
        "3. WARNING:\n",
        "   - : Indicates that something unexpected happened or that there might be a potential problem, but the program can continue running.\n",
        "   - To signal potential issues or situations that aren’t errors but could cause problems in the future.\n",
        "   - e.g: Deprecated functions, minor issues that don’t break functionality.\n",
        "\n",
        "   \n",
        "\n",
        "4. ERROR:\n",
        "   - Indicates a more serious problem that prevents part of the program from functioning properly. The program can still continue running, but something went wrong.\n",
        "   - : When an operation fails, but it’s not critical to stop the entire program.\n",
        "   - e.g File not found, network failure.\n",
        "\n",
        "  \n",
        "\n",
        "5. CRITICAL:\n",
        "   - The highest level of logging. It indicates a very serious error that might cause the program to stop or behave unpredictably.\n",
        "   -  For errors that are fatal to the program and need immediate attention.\n",
        "   - e.g.: System failure, memory exhaustion, application crash.\n",
        "\n",
        "   "
      ],
      "metadata": {
        "id": "yCHhqSJWVjyp"
      }
    },
    {
      "cell_type": "markdown",
      "source": [
        "Ques18:\n",
        "\n",
        "Ans:\n",
        "\n",
        "\n",
        "| Feature                | os.fork()                             | multiprocessing                          |\n",
        "|------------------------|------------------------------------------|---------------------------------------------|\n",
        "| Level                  | Low-level system call                   | High-level Python module                   |\n",
        "| Platform Support       | Unix/Linux only                         | Cross-platform (Windows, Unix, etc.)       |\n",
        "| Code Complexity        | More complex, manual management         | Easier, uses Python classes and functions  |\n",
        "| Communication          | Manual (e.g., pipes, sockets)           | Built-in (Queue , Pipe, etc.)           |\n",
        "| Use Case               | Simple forking                          | Parallel processing and multi-core tasks   |\n",
        "\n"
      ],
      "metadata": {
        "id": "kGm055swf3p7"
      }
    },
    {
      "cell_type": "markdown",
      "source": [
        "Ques19:\n",
        "\n",
        "Ans:\n",
        "\n",
        "1. Frees Up System Resources:\n",
        "   - Each open file consumes system resources like file descriptors.\n",
        "   - Closing the file releases these resources back to the operating system.\n",
        "\n",
        "2. Ensures Data is Written Properly:\n",
        "   - When writing to a file, data is often buffered.\n",
        "   - Closing the file flushes the buffer, ensuring all data is physically written to the disk.\n",
        "\n",
        "3. Prevents Data Corruption:\n",
        "   - Leaving a file open, especially in write or append mode, increases the risk of data corruption if the program crashes or ends unexpectedly.\n",
        "\n",
        "4. Avoids File Access Issues:\n",
        "   - An open file might lock the resource, preventing other programs or processes from accessing it.\n",
        "   - Closing the file makes it available for other operations.\n",
        "\n",
        "5. Good Programming Practice:\n",
        "   - Proper file handling reflects clean and responsible coding.\n",
        "   - Helps maintain the stability and reliability of applications.\n",
        "\n"
      ],
      "metadata": {
        "id": "4OhFFRHWg4cC"
      }
    },
    {
      "cell_type": "markdown",
      "source": [
        "Qques20:\n",
        "\n",
        "Ans:\n",
        "\n",
        "\n",
        "\n",
        "| Feature             | file.read()                             | file.readline()                         |\n",
        "|---------------------|--------------------------------------------|--------------------------------------------|\n",
        "| Reads               | Entire file or given number of bytes       | One line at a time                         |\n",
        "| Return Type         | A single string                            | A single string (one line)                 |\n",
        "| Memory Usage        | Higher for large files                     | Lower (reads one line at a time)           |\n",
        "| Use Case            | When full content is needed at once        | When processing file line by line          |\n",
        "\n"
      ],
      "metadata": {
        "id": "LIZ9rwKnhbQy"
      }
    },
    {
      "cell_type": "markdown",
      "source": [
        "Ques21:\n",
        "\n",
        "Ans: The logging module in Python is used to record messages that describe events happening during a program’s execution. These messages can help in:\n",
        "\n",
        "Debugging\n",
        "\n",
        "Monitoring\n",
        "\n",
        "Error tracking\n",
        "\n",
        "Auditing"
      ],
      "metadata": {
        "id": "b8GeqlMWh3tc"
      }
    },
    {
      "cell_type": "markdown",
      "source": [
        "Ques22:\n",
        "\n",
        "Ans:\n",
        "The os module in Python provides a way to interact with the operating system, especially for tasks related to the file system.\n",
        "\n",
        "It is widely used in file handling  to perform operations like creating, deleting, renaming, and navigating directories and files.\n",
        "\n",
        "Uses of os Module in File Handling:\n",
        "\n",
        "1. Working with Files:\n",
        "  \n",
        "\n",
        "2. Working with Directories:\n",
        "  \n",
        "\n",
        "3. File and Directory Listing:\n",
        "  \n",
        "4. Renaming Files or Directorie:\n",
        "   \n",
        "\n",
        "5. Path Operations (through os.path):\n",
        "   \n"
      ],
      "metadata": {
        "id": "WrhQcvLBiK9S"
      }
    },
    {
      "cell_type": "markdown",
      "source": [
        "Ques23:\n",
        "\n",
        "Ans:\n",
        "Challenges Associated with Memory Management in Python (Theory)\n",
        "\n",
        "\n",
        "\n",
        " 1.Memory Leaks\n",
        "\n",
        "\n",
        " 2. Circular References\n",
        "\n",
        "\n",
        " 3. High Memory Consumption\n",
        "\n",
        "\n",
        "\n",
        " 4. Unintended Object References\n",
        "\n",
        "\n",
        " 5. Poor Understanding of Object Lifetimes\n",
        "\n",
        "\n",
        " 6. Manual Memory Management Not Available\n",
        "\n",
        "\n",
        " 7. Garbage Collector Overhead\n",
        "- Python's garbage collection process can introduce performance overhead.\n",
        "- In large applications, tuning or disabling garbage collection might be necessary for speed.\n",
        "\n"
      ],
      "metadata": {
        "id": "SEjQReVujluU"
      }
    },
    {
      "cell_type": "markdown",
      "source": [
        "Ques24:\n",
        "\n",
        "Ans:\n",
        "\n",
        " you can raise an exception manually using the raise keyword.\n",
        "\n",
        "It is used when you want to stop the program if something goes wrong.\n",
        "\n",
        "Example :\n",
        "- raise ValueError(\"Invalid input\")\n",
        "\n",
        "This will raise a ValueError with the message \"Invalid input\".\n",
        "\n",
        "It is helpful when you want to **show an error** for wrong input or wrong actions.\n"
      ],
      "metadata": {
        "id": "9NOEIMu4kh00"
      }
    },
    {
      "cell_type": "markdown",
      "source": [
        "Ques25:\n",
        "\n",
        "Ans:  Multithreading lets a program do multiple things at once, making it faster, smoother, and more efficient—especially when dealing with tasks like input/output or waiting for responses."
      ],
      "metadata": {
        "id": "eLz5s51olRbj"
      }
    },
    {
      "cell_type": "markdown",
      "source": [
        "# **PRACTICAL QUESTIONS**"
      ],
      "metadata": {
        "id": "QsTMdy2Xldus"
      }
    },
    {
      "cell_type": "code",
      "source": [
        "#Ques1:\n",
        "\n",
        "\n",
        "file = open(\"example.txt\", \"w\")\n",
        "\n",
        "\n",
        "file.write(\"Hello, this is a string.\")\n",
        "\n",
        "\n",
        "file.close()\n"
      ],
      "metadata": {
        "id": "gcSsdmdOloKD"
      },
      "execution_count": 2,
      "outputs": []
    },
    {
      "cell_type": "code",
      "source": [
        "#Ques2:\n",
        "\n",
        "\n",
        "file = open(\"example.txt\", \"r\")\n",
        "\n",
        "for line in file:\n",
        "    print(line, end='')\n",
        "\n",
        "\n",
        "file.close()\n",
        "\n",
        "\n"
      ],
      "metadata": {
        "id": "n-Fuu7bFmJFL",
        "outputId": "a62431c9-9b57-437a-dda9-ecfd9f486ba5",
        "colab": {
          "base_uri": "https://localhost:8080/"
        }
      },
      "execution_count": 3,
      "outputs": [
        {
          "output_type": "stream",
          "name": "stdout",
          "text": [
            "Hello, this is a string."
          ]
        }
      ]
    },
    {
      "cell_type": "code",
      "source": [
        "#Ques3:\n",
        "try:\n",
        "\n",
        "    file = open(\"example.txt\", \"r\")\n",
        "\n",
        "    content = file.read()\n",
        "    print(content)\n",
        "    file.close()\n",
        "except FileNotFoundError:\n",
        "\n",
        "    print(\"The file does not exist.\")\n"
      ],
      "metadata": {
        "id": "DeO999FWmpHo",
        "outputId": "f8d11260-f87f-4620-f132-5d964e0bb331",
        "colab": {
          "base_uri": "https://localhost:8080/"
        }
      },
      "execution_count": 4,
      "outputs": [
        {
          "output_type": "stream",
          "name": "stdout",
          "text": [
            "Hello, this is a string.\n"
          ]
        }
      ]
    },
    {
      "cell_type": "code",
      "source": [
        "#Ques4:\n",
        "\n",
        "try:\n",
        "    with open(\"source.txt\", \"r\") as source_file:\n",
        "        content = source_file.read()\n",
        "\n",
        "    with open(\"destination.txt\", \"w\") as destination_file:\n",
        "        destination_file.write(content)\n",
        "\n",
        "    print(\"Content has been copied from source.txt to destination.txt\")\n",
        "\n",
        "except FileNotFoundError:\n",
        "    print(\"The source file does not exist. Please check the file path.\")\n",
        "\n"
      ],
      "metadata": {
        "id": "Ryn7Khc6m62X",
        "outputId": "a15e7d1e-43a7-4f4c-9d41-541a0c27c749",
        "colab": {
          "base_uri": "https://localhost:8080/"
        }
      },
      "execution_count": 6,
      "outputs": [
        {
          "output_type": "stream",
          "name": "stdout",
          "text": [
            "The source file does not exist. Please check the file path.\n"
          ]
        }
      ]
    },
    {
      "cell_type": "code",
      "source": [
        "#Ques5:\n",
        "try:\n",
        "\n",
        "    result = 10 / 0\n",
        "except ZeroDivisionError:\n",
        "\n",
        "    print(\"Error: You can't divide by zero!\")\n",
        "else:\n",
        "\n",
        "    print(f\"The result is: {result}\")\n"
      ],
      "metadata": {
        "id": "lI7ZCq36nI5I",
        "outputId": "c2f677a2-9ace-43bb-a371-f537c8fb7ca5",
        "colab": {
          "base_uri": "https://localhost:8080/"
        }
      },
      "execution_count": 7,
      "outputs": [
        {
          "output_type": "stream",
          "name": "stdout",
          "text": [
            "Error: You can't divide by zero!\n"
          ]
        }
      ]
    },
    {
      "cell_type": "code",
      "source": [
        "#Ques6:\n",
        "import logging\n",
        "\n",
        "logging.basicConfig(filename='error_log.txt', level=logging.ERROR,\n",
        "                    format='%(asctime)s - %(levelname)s - %(message)s')\n",
        "\n",
        "try:\n",
        "\n",
        "    result = 10 / 0\n",
        "except ZeroDivisionError as e:\n",
        "\n",
        "    logging.error(f\"Error occurred: {e}\")\n",
        "\n"
      ],
      "metadata": {
        "id": "NkLFQ8byni-s",
        "outputId": "99c5175d-1055-46e7-e5fd-92c818dc5c92",
        "colab": {
          "base_uri": "https://localhost:8080/"
        }
      },
      "execution_count": 8,
      "outputs": [
        {
          "output_type": "stream",
          "name": "stderr",
          "text": [
            "ERROR:root:Error occurred: division by zero\n"
          ]
        }
      ]
    },
    {
      "cell_type": "code",
      "source": [
        "#Ques7:\n",
        "\n",
        "import logging\n",
        "\n",
        "logging.basicConfig(level=logging.DEBUG,\n",
        "                    format='%(asctime)s - %(levelname)s - %(message)s',\n",
        "                    filename='app_log.txt')\n",
        "\n",
        "logging.debug(\"This is a DEBUG message.\")\n",
        "logging.info(\"This is an INFO message.\")\n",
        "logging.warning(\"This is a WARNING message.\")\n",
        "logging.error(\"This is an ERROR message.\")\n",
        "logging.critical(\"This is a CRITICAL message.\")\n"
      ],
      "metadata": {
        "id": "Kc8NdyB5n2dK",
        "outputId": "773d1cd9-b363-45c0-e9e7-d8506672bbdb",
        "colab": {
          "base_uri": "https://localhost:8080/"
        }
      },
      "execution_count": 9,
      "outputs": [
        {
          "output_type": "stream",
          "name": "stderr",
          "text": [
            "WARNING:root:This is a WARNING message.\n",
            "ERROR:root:This is an ERROR message.\n",
            "CRITICAL:root:This is a CRITICAL message.\n"
          ]
        }
      ]
    },
    {
      "cell_type": "code",
      "source": [
        "#Ques8\n",
        "try:\n",
        "\n",
        "    file = open(\"non_existing_file.txt\", \"r\")\n",
        "\n",
        "    content = file.read()\n",
        "    print(content)\n",
        "    file.close()\n",
        "except FileNotFoundError:\n",
        "\n",
        "    print(\"Error: The file does not exist.\")\n",
        "except IOError:\n",
        "\n",
        "    print(\"Error: There was an issue opening the file.\")\n"
      ],
      "metadata": {
        "id": "gi0q3VJloMIM",
        "outputId": "907b3f97-39b3-4f05-8b0a-6dbebacf7ad0",
        "colab": {
          "base_uri": "https://localhost:8080/"
        }
      },
      "execution_count": 10,
      "outputs": [
        {
          "output_type": "stream",
          "name": "stdout",
          "text": [
            "Error: The file does not exist.\n"
          ]
        }
      ]
    },
    {
      "cell_type": "code",
      "source": [
        "#Ques9\n",
        "\n",
        "with open(\"example.txt\", \"r\") as file:\n",
        "\n",
        "    lines = file.readlines()\n",
        "\n",
        "print(lines)\n",
        "\n"
      ],
      "metadata": {
        "id": "Xqq1uTq-oi6b",
        "outputId": "1e1d0d44-f707-44b4-c781-f555e47e379c",
        "colab": {
          "base_uri": "https://localhost:8080/"
        }
      },
      "execution_count": 11,
      "outputs": [
        {
          "output_type": "stream",
          "name": "stdout",
          "text": [
            "['Hello, this is a string.']\n"
          ]
        }
      ]
    },
    {
      "cell_type": "code",
      "source": [
        "#Ques10\n",
        "\n",
        "\n",
        "with open(\"example.txt\", \"a\") as file:\n",
        "\n",
        "    file.write(\"This is the new data being appended.\\n\")\n",
        "\n",
        "print(\"Data has been appended to the file.\")\n"
      ],
      "metadata": {
        "id": "YzywCTIKpMW-",
        "outputId": "b95e3ff6-d27e-4a94-e1cf-64b289799a91",
        "colab": {
          "base_uri": "https://localhost:8080/"
        }
      },
      "execution_count": 12,
      "outputs": [
        {
          "output_type": "stream",
          "name": "stdout",
          "text": [
            "Data has been appended to the file.\n"
          ]
        }
      ]
    },
    {
      "cell_type": "code",
      "source": [
        "#Ques11\n",
        "\n",
        "\n",
        "my_dict = {\"name\": \"John\", \"age\": 30}\n",
        "\n",
        "try:\n",
        "\n",
        "    value = my_dict[\"address\"]\n",
        "except KeyError:\n",
        "\n",
        "    print(\"Error: The key 'address' does not exist in the dictionary.\")\n",
        "else:\n",
        "\n",
        "    print(f\"The value is: {value}\")\n"
      ],
      "metadata": {
        "id": "HXpqxPs_pbT-",
        "outputId": "681155f6-3df4-4b3b-cd90-602287f35940",
        "colab": {
          "base_uri": "https://localhost:8080/"
        }
      },
      "execution_count": 13,
      "outputs": [
        {
          "output_type": "stream",
          "name": "stdout",
          "text": [
            "Error: The key 'address' does not exist in the dictionary.\n"
          ]
        }
      ]
    },
    {
      "cell_type": "code",
      "source": [
        "#Ques12\n",
        "\n",
        "try:\n",
        "\n",
        "    num1 = int(input(\"Enter a number: \"))\n",
        "    num2 = int(input(\"Enter another number: \"))\n",
        "\n",
        "\n",
        "    result = num1 / num2\n",
        "\n",
        "except ZeroDivisionError:\n",
        "\n",
        "    print(\"Error: Cannot divide by zero.\")\n",
        "\n",
        "except ValueError:\n",
        "\n",
        "    print(\"Error: Invalid input. Please enter integers only.\")\n",
        "\n",
        "except Exception as e:\n",
        "\n",
        "    print(f\"An unexpected error occurred: {e}\")\n",
        "\n",
        "else:\n",
        "\n",
        "    print(f\"The result of division is: {result}\")\n"
      ],
      "metadata": {
        "id": "mJFtD-KspopC",
        "outputId": "8f282125-a2e1-470c-ebf4-bc36da231d1a",
        "colab": {
          "base_uri": "https://localhost:8080/"
        }
      },
      "execution_count": 14,
      "outputs": [
        {
          "output_type": "stream",
          "name": "stdout",
          "text": [
            "Enter a number: 456\n",
            "Enter another number: 123\n",
            "The result of division is: 3.707317073170732\n"
          ]
        }
      ]
    },
    {
      "cell_type": "code",
      "source": [
        "#Ques13;\n",
        "\n",
        "import os\n",
        "\n",
        "file_path = \"example.txt\"\n",
        "\n",
        "# Check if the file exists\n",
        "if os.path.exists(file_path):\n",
        "    with open(file_path, \"r\") as file:\n",
        "        content = file.read()\n",
        "        print(content)\n",
        "else:\n",
        "    print(f\"The file {file_path} does not exist.\")\n"
      ],
      "metadata": {
        "id": "J-X3t3ufp0zR",
        "outputId": "d1b88fad-f115-4b89-bf61-6b287b7cd6fc",
        "colab": {
          "base_uri": "https://localhost:8080/"
        }
      },
      "execution_count": 15,
      "outputs": [
        {
          "output_type": "stream",
          "name": "stdout",
          "text": [
            "Hello, this is a string.This is the new data being appended.\n",
            "\n"
          ]
        }
      ]
    },
    {
      "cell_type": "code",
      "source": [
        "#Ques14;\n",
        "\n",
        "import logging\n",
        "\n",
        "\n",
        "logging.basicConfig(\n",
        "    filename='app_log.txt',\n",
        "    level=logging.DEBUG,\n",
        "    format='%(asctime)s - %(levelname)s - %(message)s'\n",
        ")\n",
        "\n",
        "logging.info(\"This is an informational message.\")\n",
        "\n",
        "try:\n",
        "    x = 10 / 0\n",
        "except ZeroDivisionError as e:\n",
        "    logging.error(f\"An error occurred: {e}\")\n",
        "\n",
        "\n",
        "logging.warning(\"This is a warning message.\")\n"
      ],
      "metadata": {
        "id": "1o9pLFLzqCXG",
        "outputId": "62cc013b-2dcc-4708-8a00-0c7efc58cd8b",
        "colab": {
          "base_uri": "https://localhost:8080/"
        }
      },
      "execution_count": 16,
      "outputs": [
        {
          "output_type": "stream",
          "name": "stderr",
          "text": [
            "ERROR:root:An error occurred: division by zero\n",
            "WARNING:root:This is a warning message.\n"
          ]
        }
      ]
    },
    {
      "cell_type": "code",
      "source": [
        "#Ques15\n",
        "\n",
        "# File path\n",
        "file_path = \"example.txt\"\n",
        "\n",
        "try:\n",
        "    with open(file_path, \"r\") as file:\n",
        "        content = file.read()\n",
        "\n",
        "        # Check if the file is empty\n",
        "        if content:\n",
        "            print(\"File content:\")\n",
        "            print(content)\n",
        "        else:\n",
        "            print(\"The file is empty.\")\n",
        "\n",
        "except FileNotFoundError:\n",
        "    print(f\"Error: The file {file_path} does not exist.\")\n",
        "except Exception as e:\n",
        "    print(f\"An unexpected error occurred: {e}\")\n"
      ],
      "metadata": {
        "id": "UG5N6EL-qDv2",
        "outputId": "ba0355ee-5065-4d73-fd5f-757585d4a6b0",
        "colab": {
          "base_uri": "https://localhost:8080/"
        }
      },
      "execution_count": 17,
      "outputs": [
        {
          "output_type": "stream",
          "name": "stdout",
          "text": [
            "File content:\n",
            "Hello, this is a string.This is the new data being appended.\n",
            "\n"
          ]
        }
      ]
    },
    {
      "cell_type": "code",
      "source": [
        "#Ques17:\n",
        "\n",
        "# List of numbers\n",
        "numbers = [1, 2, 3, 4, 5, 6, 7, 8, 9, 10]\n",
        "\n",
        "# Open the file in write mode\n",
        "with open(\"numbers.txt\", \"w\") as file:\n",
        "    # Write each number to the file, one per line\n",
        "    for number in numbers:\n",
        "        file.write(f\"{number}\\n\")\n",
        "\n",
        "print(\"Numbers have been written to 'numbers.txt'.\")\n",
        "\n"
      ],
      "metadata": {
        "id": "uIMnWkKOqiJ5",
        "outputId": "32a75c50-8666-46d9-efbf-3b41926df814",
        "colab": {
          "base_uri": "https://localhost:8080/"
        }
      },
      "execution_count": 21,
      "outputs": [
        {
          "output_type": "stream",
          "name": "stdout",
          "text": [
            "Numbers have been written to 'numbers.txt'.\n"
          ]
        }
      ]
    },
    {
      "cell_type": "code",
      "source": [
        "#Ques18:\n",
        "\n",
        "\n",
        "import logging\n",
        "from logging.handlers import RotatingFileHandler\n",
        "\n",
        "# Set up the logging configuration\n",
        "log_file = \"app.log\"\n",
        "\n",
        "# Create a rotating file handler that rotates after 1MB (1048576 bytes)\n",
        "handler = RotatingFileHandler(log_file, maxBytes=1048576, backupCount=3)\n",
        "\n",
        "# Set the logging format\n",
        "formatter = logging.Formatter('%(asctime)s - %(levelname)s - %(message)s')\n",
        "handler.setFormatter(formatter)\n",
        "\n",
        "# Set up the logger\n",
        "logger = logging.getLogger()\n",
        "logger.setLevel(logging.DEBUG)\n",
        "\n",
        "# Add the handler to the logger\n",
        "logger.addHandler(handler)\n",
        "\n",
        "# Example log messages\n",
        "logger.debug(\"This is a debug message.\")\n",
        "logger.info(\"This is an info message.\")\n",
        "logger.warning(\"This is a warning message.\")\n",
        "logger.error(\"This is an error message.\")\n",
        "logger.critical(\"This is a critical message.\")\n",
        "\n",
        "print(\"Logging setup completed.\")\n"
      ],
      "metadata": {
        "id": "4-LNtar4qtno",
        "outputId": "7f3d8205-c89a-4259-b59b-027c90d76619",
        "colab": {
          "base_uri": "https://localhost:8080/"
        }
      },
      "execution_count": 22,
      "outputs": [
        {
          "output_type": "stream",
          "name": "stderr",
          "text": [
            "DEBUG:root:This is a debug message.\n",
            "INFO:root:This is an info message.\n",
            "WARNING:root:This is a warning message.\n",
            "ERROR:root:This is an error message.\n",
            "CRITICAL:root:This is a critical message.\n"
          ]
        },
        {
          "output_type": "stream",
          "name": "stdout",
          "text": [
            "Logging setup completed.\n"
          ]
        }
      ]
    },
    {
      "cell_type": "code",
      "source": [
        "#Ques 19\n",
        "# Sample data for the demonstration\n",
        "my_list = [1, 2, 3]\n",
        "my_dict = {\"a\": 1, \"b\": 2}\n",
        "\n",
        "try:\n",
        "    # Attempt to access an invalid index in the list\n",
        "    print(\"Accessing an invalid index in the list:\")\n",
        "    print(my_list[5])  # Index out of range (IndexError)\n",
        "\n",
        "    # Attempt to access a key that doesn't exist in the dictionary\n",
        "    print(\"\\nAccessing a non-existing key in the dictionary:\")\n",
        "    print(my_dict[\"c\"])  # Key does not exist (KeyError)\n",
        "\n",
        "except IndexError as e:\n",
        "    print(f\"IndexError: {e}\")  # Handling the IndexError\n",
        "\n",
        "except KeyError as e:\n",
        "    print(f\"KeyError: {e}\")  # Handling the KeyError\n",
        "\n"
      ],
      "metadata": {
        "id": "ZtH-of51rwz5",
        "outputId": "70f60abd-bd5a-4815-bc86-0cd4fa886c42",
        "colab": {
          "base_uri": "https://localhost:8080/"
        }
      },
      "execution_count": 23,
      "outputs": [
        {
          "output_type": "stream",
          "name": "stdout",
          "text": [
            "Accessing an invalid index in the list:\n",
            "IndexError: list index out of range\n"
          ]
        }
      ]
    },
    {
      "cell_type": "code",
      "source": [
        "#Ques20\n",
        "\n",
        "# Open the file using a context manager\n",
        "file_path = \"example.txt\"\n",
        "\n",
        "with open(file_path, \"r\") as file:\n",
        "    # Read the contents of the file\n",
        "    content = file.read()\n",
        "    print(content)\n"
      ],
      "metadata": {
        "id": "Tcz3Yt-Tr6iR",
        "outputId": "0fb57703-da57-459f-95dc-3f2906c9018e",
        "colab": {
          "base_uri": "https://localhost:8080/"
        }
      },
      "execution_count": 24,
      "outputs": [
        {
          "output_type": "stream",
          "name": "stdout",
          "text": [
            "Hello, this is a string.This is the new data being appended.\n",
            "\n"
          ]
        }
      ]
    },
    {
      "cell_type": "code",
      "source": [
        "#Ques21\n",
        "\n",
        "# Function to count occurrences of a specific word in a file\n",
        "def count_word_occurrences(file_path, word_to_count):\n",
        "    try:\n",
        "        # Open the file using a context manager\n",
        "        with open(file_path, 'r') as file:\n",
        "            content = file.read()  # Read the entire content of the file\n",
        "\n",
        "            # Count the occurrences of the specified word\n",
        "            word_count = content.lower().split().count(word_to_count.lower())\n",
        "\n",
        "        # Print the result\n",
        "        print(f\"The word '{word_to_count}' appears {word_count} times in the file.\")\n",
        "\n",
        "    except FileNotFoundError:\n",
        "        print(f\"Error: The file '{file_path}' does not exist.\")\n",
        "\n",
        "# Example usage\n",
        "file_path = \"example.txt\"  # Replace with your file path\n",
        "word_to_count = \"python\"  # Word you want to count\n",
        "count_word_occurrences(file_path, word_to_count)\n"
      ],
      "metadata": {
        "id": "_sdKDOy5sDdH",
        "outputId": "26630926-9085-4ed7-ab59-e679f7fa4562",
        "colab": {
          "base_uri": "https://localhost:8080/"
        }
      },
      "execution_count": 25,
      "outputs": [
        {
          "output_type": "stream",
          "name": "stdout",
          "text": [
            "The word 'python' appears 0 times in the file.\n"
          ]
        }
      ]
    },
    {
      "cell_type": "code",
      "source": [
        "#Ques22\n",
        "\n",
        "import os\n",
        "\n",
        "def check_file_empty(file_path):\n",
        "    # Check if the file exists and its size\n",
        "    if os.path.exists(file_path) and os.path.getsize(file_path) > 0:\n",
        "        # If the file exists and is not empty\n",
        "        with open(file_path, 'r') as file:\n",
        "            content = file.read()\n",
        "            print(\"File content:\")\n",
        "            print(content)\n",
        "    else:\n",
        "        # If the file is empty or doesn't exist\n",
        "        print(f\"The file '{file_path}' is empty or does not exist.\")\n",
        "\n",
        "# Example usage\n",
        "file_path = \"example.txt\"  # Replace with your file path\n",
        "check_file_empty(file_path)\n"
      ],
      "metadata": {
        "id": "xgso-cO3sRuq",
        "outputId": "2d26b635-5d42-4523-a62f-7a8720fd9601",
        "colab": {
          "base_uri": "https://localhost:8080/"
        }
      },
      "execution_count": 26,
      "outputs": [
        {
          "output_type": "stream",
          "name": "stdout",
          "text": [
            "File content:\n",
            "Hello, this is a string.This is the new data being appended.\n",
            "\n"
          ]
        }
      ]
    },
    {
      "cell_type": "code",
      "source": [
        "\n",
        "#ques 23\n",
        "\n",
        "import logging\n",
        "\n",
        "# Set up logging configuration\n",
        "logging.basicConfig(filename='file_error.log',\n",
        "                    level=logging.ERROR,  # Log only error messages or above\n",
        "                    format='%(asctime)s - %(levelname)s - %(message)s')\n",
        "\n",
        "def read_file(file_path):\n",
        "    try:\n",
        "        # Attempt to open and read the file\n",
        "        with open(file_path, 'r') as file:\n",
        "            content = file.read()\n",
        "            print(content)  # Print the content of the file\n",
        "    except Exception as e:\n",
        "        # Log the error to the file\n",
        "        logging.error(f\"Error occurred while handling the file '{file_path}': {str(e)}\")\n",
        "        print(f\"An error occurred. Please check the log file for details.\")\n",
        "\n",
        "# Example usage\n",
        "file_path = \"non_existent_file.txt\"  # Replace with your file path\n",
        "read_file(file_path)\n"
      ],
      "metadata": {
        "id": "uw00Tl8ascY-",
        "outputId": "44012aef-14b1-46f7-e0f9-5371aa95b112",
        "colab": {
          "base_uri": "https://localhost:8080/"
        }
      },
      "execution_count": 28,
      "outputs": [
        {
          "output_type": "stream",
          "name": "stderr",
          "text": [
            "ERROR:root:Error occurred while handling the file 'non_existent_file.txt': [Errno 2] No such file or directory: 'non_existent_file.txt'\n"
          ]
        },
        {
          "output_type": "stream",
          "name": "stdout",
          "text": [
            "An error occurred. Please check the log file for details.\n"
          ]
        }
      ]
    }
  ]
}