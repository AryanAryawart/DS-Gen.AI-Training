{
  "nbformat": 4,
  "nbformat_minor": 0,
  "metadata": {
    "colab": {
      "provenance": []
    },
    "kernelspec": {
      "name": "python3",
      "display_name": "Python 3"
    },
    "language_info": {
      "name": "python"
    }
  },
  "cells": [
    {
      "cell_type": "markdown",
      "source": [],
      "metadata": {
        "id": "-GulC-7MHYEk"
      }
    },
    {
      "cell_type": "markdown",
      "source": [
        "Theory Questions"
      ],
      "metadata": {
        "id": "D1JDJIPnHezp"
      }
    },
    {
      "cell_type": "code",
      "source": [],
      "metadata": {
        "id": "1jijXKUAHqfg"
      },
      "execution_count": null,
      "outputs": []
    },
    {
      "cell_type": "markdown",
      "source": [
        "Ques1;  What is the difference between a function and a method in Python?\n",
        "\n",
        "Ans;  Function-\n",
        "A function is a block of code that performs a specific task and can be called independently.\n",
        "\n",
        "It is defined using the def keyword and can be called from anywhere in the program.\n",
        "def my_function():\n",
        "    print(\"This is a function\")\n",
        "\n",
        "#Calling the function\n",
        "my_function()\n",
        "\n",
        "Method:\n",
        "A method is a function that is associated with an object typically a class.\n",
        "\n",
        "Methods are called on an object an instance of a class, and they typically operate on the data stored within that object.\n",
        "\n",
        "Methods are defined inside a class and take the instance usually referred to as self as their first argument.\n",
        "class MyClass:\n",
        "    def my_method(self):\n",
        "        print(\"This is a method\")\n",
        "\n",
        "#Creating an object of MyClass\n",
        "obj = MyClass()\n",
        "\n",
        "# Calling the method on the object\n",
        "obj.my_method()\n"
      ],
      "metadata": {
        "id": "EWqil2azHsg3"
      }
    },
    {
      "cell_type": "markdown",
      "source": [
        "Ques2;  Explain the concept of function arguments and parameters in Python.\n",
        "\n",
        "Ans; Parameters:\n",
        "Variables defined in the function signature.\n",
        "\n",
        "Act as placeholders for values that will be passed when the function is called.\n",
        "\n",
        "Arguments:\n",
        "Actual values provided to the function when it is called.\n",
        "\n",
        "\n",
        "-Positional Arguments: Passed in the same order as parameters.\n",
        "-Keyword Arguments: Passed by explicitly naming the parameter.\n",
        "-Default Parameters: Parameters that have default values if no argument is provided.\n",
        "-Arbitrary Arguments (*args and **kwargs): Allow functions to accept a variable number of arguments."
      ],
      "metadata": {
        "id": "VxUKR_rzJUQK"
      }
    },
    {
      "cell_type": "code",
      "source": [],
      "metadata": {
        "id": "TC7J0606LVX4"
      },
      "execution_count": null,
      "outputs": []
    },
    {
      "cell_type": "markdown",
      "source": [
        "Ques3;  What are the different ways to define and call a function in Python?\n",
        "\n",
        "Ans;\n",
        "\n",
        "1. Simple Function\n",
        "- A function is defined using the def keyword, followed by the function name and parentheses.\n",
        "- Calling the function is done by using its name followed by parentheses.\n",
        "  \n",
        " 2. Function with Parameters\n",
        "- A function can accept parameters variables to receive input when it’s called.\n",
        "- Parameters allow the function to work with different data each time it’s called.\n",
        " 3. Function with Return Values\n",
        "- Functions can use the return keyword to send a value back to the caller.\n",
        "- This value can be used or stored when the function is called.\n",
        "\n",
        "4. **Function with Default Parameters\n",
        "- Parameters can be given default valuesin the function definition.\n",
        "- If no argument is passed for a parameter during the function call, the default value is used.\n",
        "\n",
        "5. Arbitrary Arguments (*args and **kwargs)\n",
        "- args allows the function to accept any number of positional argumets(as a tuple).\n",
        "- kwargs allows the function to accept any number of keyword arguments (as a dictionary).\n",
        "\n",
        " 6. Lambda Function (Anonymous Function)\n",
        "- A lambda function is a short, anonymous function defined using the lambda keyword.\n",
        "- It is often used for small tasks that are simple and require no name.\n",
        " 7. Nested Functions\n",
        "- A nested function is a function defined inside another function.\n",
        "- The inner function can be called within the outer function.\n",
        "\n",
        " 8. Recursive Function\n",
        "- A recursive function is a function that calls itself in order to solve a problem.\n",
        "- It typically includes a base case to prevent infinite recursion.\n",
        "\n",
        "This summarizes the different ways to define and call functions in Python, each offering flexibility depending on the task at hand."
      ],
      "metadata": {
        "id": "Cj83b0nzLbZX"
      }
    },
    {
      "cell_type": "markdown",
      "source": [
        "Ques4; What is the purpose of the return statement in a Python function?\n",
        "\n",
        "Ans; The return statement in a Python function serves the following purposes:\n",
        "\n",
        "Return a Value: The return statement is used to send a value from the function back to the caller. This allows the function to produce an output that can be used elsewhere in the program.\n",
        "\n",
        "Exit the Function: When the return statement is executed, it terminates the function’s execution immediately, and no further code in the function is run.\n",
        "\n",
        "Default Return (None): If no value is specified after the return statement, the function automatically returns None."
      ],
      "metadata": {
        "id": "bZSgZmmVLmsU"
      }
    },
    {
      "cell_type": "code",
      "source": [],
      "metadata": {
        "id": "W_z8GIt3LdSb"
      },
      "execution_count": null,
      "outputs": []
    },
    {
      "cell_type": "markdown",
      "source": [
        "Ques5; What are iterators in Python and how do they differ from iterables?\n",
        "\n",
        "Ans: Iterables vs Iterators in Python\n",
        "\n",
        "Iterable\n",
        "\n",
        "- An iterable is any object in Python that can return an iterator. It is a collection of items that can be iterated over.\n",
        "- An object is considered iterable if it implements the iter() method. This method returns an iterator.\n",
        "- Examples of iterables include lists, tuples, strings, and dictionaries.\n",
        "- Key Point: Iterables provide a mechanism to get an iterator but do not directly return items one by one.\n",
        "\n",
        " Iterator\n",
        "\n",
        "- An iterator is an object that keeps track of its state and knows how to retrieve the next item in a sequence.\n",
        "- An object is considered an iterator if it implements both the iter() and next() methods. The next() method retrieves the next item, and when there are no more items, it raises a StopIteration exception.\n",
        "- Key Point: Iterators are the actual objects that can be used to fetch items one at a time.\n",
        "\n",
        "- Iterable: An object that can be looped over but doesn’t provide a mechanism to fetch items directly\n",
        "- Iterator: An object that can fetch the next item in the sequence and maintains the state of the iteration.\n",
        "\n"
      ],
      "metadata": {
        "id": "qULAiZ7VL_DP"
      }
    },
    {
      "cell_type": "markdown",
      "source": [
        "Ques6;  Explain the concept of generators in Python and how they are defined.\n",
        "\n",
        "Ans; A generator in Python is a special type of iterator that generates values one at a time as they are requested, using the yield keyword. Unlike normal functions that return a value and terminate, a generator uses yield to produce a value and temporarily pauses its execution, retaining its state. This allows the function to resume from where it left off the next time it is called. Generators provide **lazy evaluation**, meaning they only compute the next value when needed, rather than generating all values at once, which makes them memory-efficient and ideal for processing large or infinite sequences. Unlike iterables, which simply return an iterator to loop over, generators are actual iterators that keep track of their own state and generate items dynamically. This behavior makes them both efficient in terms of memory and performance, as they don’t require storing the entire sequence in memory at once."
      ],
      "metadata": {
        "id": "LLIgF3QONGWD"
      }
    },
    {
      "cell_type": "markdown",
      "source": [
        "Ques7;What are the advantages of using generators over regular functions?\n",
        "\n",
        "Ans; Generators offer several advantages over regular functions, particularly in terms of memory efficiency and performance. Unlike regular functions that return all values at once, generators produce values one at a time using **lazy evaluation**, meaning they only compute and yield the next value when requested. This allows them to handle large datasets or even infinite sequences without storing the entire sequence in memory, making them highly memory-efficient. Regular functions, on the other hand, might require storing all values at once, which can lead to high memory consumption. Additionally, generators maintain their internal state between iterations, meaning they don’t need to recompute the sequence from the beginning every time, thus improving performance. This stateful behavior simplifies code for complex iterations, where managing intermediate states manually would be more cumbersome. Generators are also ideal for working with infinite sequences, as they can produce values indefinitely without exhausting memory. In contrast, regular functions would not be able to manage infinite sequences effectively. Therefore, generators provide a more efficient and elegant solution for iterating over large or complex data sets."
      ],
      "metadata": {
        "id": "oTbdqMvvNfOz"
      }
    },
    {
      "cell_type": "code",
      "source": [],
      "metadata": {
        "id": "iMsyPZFiNE_v"
      },
      "execution_count": null,
      "outputs": []
    },
    {
      "cell_type": "markdown",
      "source": [
        "Ques8;  What is a lambda function in Python and when is it typically used\n",
        "\n",
        "Ans;A lambda function in Python is a small, anonymous function defined using the lambda keyword. Unlike regular functions, which are defined using the def keyword and can have a name, lambda functions are typically used for short-term, one-off operations and do not require a name. The syntax of a lambda function is lambda arguments: expression, where the arguments are the inputs to the function, and the expression is a single, simple operation that the function performs. Lambda functions are commonly used in situations where a full function definition would be unnecessarily verbose, such as in functions like map(), filter(), and sorted(), where a simple function is needed for processing data. For example, lambda functions are often used for custom sorting criteria or applying simple transformations to data. They are also frequently used in event handling or callback functions, where the logic is simple and doesn't warrant the creation of a named function. Overall, lambda functions provide a concise way to define functions for short-term use, particularly when working with functional programming constructs."
      ],
      "metadata": {
        "id": "6RqSFeVkN2WP"
      }
    },
    {
      "cell_type": "markdown",
      "source": [
        "Ques9;Explain the purpose and usage of the map() function in Python\n",
        "\n",
        "AnsThe map() function in Python is used to apply a given function to each item in an iterable, such as a list or tuple, and returns an iterator that yields the results. The primary purpose of map() is to transform data in a concise and efficient way, without the need to explicitly write loops. It takes two arguments: a function and an iterable. The function is applied to each element in the iterable, and the result is returned as a map object, which can be converted to a list or other iterable types if needed. For example, map() is commonly used to modify or process the elements of a list, such as squaring each number in a list. It also supports lazy evaluation, meaning the transformation occurs only when the items are accessed, which makes it memory efficient. Additionally, map() can accept multiple iterables, applying the function to corresponding elements from each iterable in parallel. This makes it versatile for a wide range of tasks involving data transformation and processing."
      ],
      "metadata": {
        "id": "DI18JIJsOP13"
      }
    },
    {
      "cell_type": "code",
      "source": [],
      "metadata": {
        "id": "EM2UEICgRi__"
      },
      "execution_count": null,
      "outputs": []
    },
    {
      "cell_type": "markdown",
      "source": [
        "Ques10: What is the difference between map(), reduce(), and filter() functions in Python?\n",
        "\n",
        "Ans; The map(), reduce(), and filter()functions in Python are all higher-order functions that operate on iterables, but they are used for different purposes. The map()function is used to apply a given function to every item in an iterable and returns an iterator with the transformed results. It is ideal when you want to modify each element in an iterable, like squaring numbers or applying some transformation. The reduce() function, from the functools module, takes a binary function and applies it cumulatively to the elements of an iterable, reducing the iterable to a single result. It is typically used for operations that combine elements, such as summing or multiplying all elements together. The filter() function, on the other hand, filters elements from an iterable based on a condition defined in a function, keeping only those elements for which the function returns True. It is used when you need to select certain elements from a collection, like extracting even numbers from a list. In summary, while map() is used for transforming data, reduce() is for combining elements into a single value, and filter() is used to selectively include or exclude items based on a condition. Each of these functions serves a unique role in functional programming and can simplify common tasks involving iteration and data manipulation."
      ],
      "metadata": {
        "id": "uup-S64wRmHz"
      }
    },
    {
      "cell_type": "markdown",
      "source": [
        "ques 11  i am trying to upload but it cant happen"
      ],
      "metadata": {
        "id": "eXI6lYkGZn_N"
      }
    },
    {
      "cell_type": "markdown",
      "source": [
        "PRACTICAL QUESTIONS"
      ],
      "metadata": {
        "id": "ZkBo1TAkS2kT"
      }
    },
    {
      "cell_type": "code",
      "source": [
        "#ques1;  Write a Python function that takes a list of numbers as input and returns the sum of all even numbers in\n",
        "#the list.\n",
        "\n",
        "def sum_of_even_numbers(numbers):\n",
        "\n",
        "    even_numbers = filter(lambda x: x % 2 == 0, numbers)\n",
        "    return sum(even_numbers)\n",
        "\n",
        "\n",
        "numbers = [1, 2, 3, 4, 5, 6, 7, 8]\n",
        "result = sum_of_even_numbers(numbers)\n",
        "print(result)  # Output: 20 (2 + 4 + 6 + 8)\n"
      ],
      "metadata": {
        "colab": {
          "base_uri": "https://localhost:8080/"
        },
        "id": "YVBVIiqVS76v",
        "outputId": "fec2b4bd-e7f9-4f41-bf96-86d92633d03d"
      },
      "execution_count": 3,
      "outputs": [
        {
          "output_type": "stream",
          "name": "stdout",
          "text": [
            "20\n"
          ]
        }
      ]
    },
    {
      "cell_type": "code",
      "source": [
        "#ques2;\n",
        "\n",
        "def reverse_string(s):\n",
        "    return s[::-1]\n",
        "\n",
        "\n",
        "input_string = \"hello\"\n",
        "result = reverse_string(input_string)\n",
        "print(result)\n"
      ],
      "metadata": {
        "colab": {
          "base_uri": "https://localhost:8080/"
        },
        "id": "2E9PQMr8TLtA",
        "outputId": "f2e3a2ed-ca6d-423f-8238-73616dddf6ca"
      },
      "execution_count": 4,
      "outputs": [
        {
          "output_type": "stream",
          "name": "stdout",
          "text": [
            "olleh\n"
          ]
        }
      ]
    },
    {
      "cell_type": "code",
      "source": [
        "#ques3;\n",
        "\n",
        "def square_numbers(numbers):\n",
        "\n",
        "    return [x ** 2 for x in numbers]\n",
        "\n",
        "input_list = [1, 2, 3, 4, 5]\n",
        "result = square_numbers(input_list)\n",
        "print(result)  # Output: [1, 4, 9, 16, 25]\n"
      ],
      "metadata": {
        "colab": {
          "base_uri": "https://localhost:8080/"
        },
        "id": "9o3cJN4CTk4R",
        "outputId": "82512a70-d249-4d5f-929c-46ee97762367"
      },
      "execution_count": 5,
      "outputs": [
        {
          "output_type": "stream",
          "name": "stdout",
          "text": [
            "[1, 4, 9, 16, 25]\n"
          ]
        }
      ]
    },
    {
      "cell_type": "code",
      "source": [
        "#ques4;\n",
        "\n",
        "def is_prime(number):\n",
        "    if number <= 1:\n",
        "        return False\n",
        "    for i in range(2, int(number ** 0.5) + 1):\n",
        "            return False\n",
        "    return True\n",
        "\n",
        "primes = [num for num in range(1, 201) if is_prime(num)]\n",
        "print(primes)\n"
      ],
      "metadata": {
        "colab": {
          "base_uri": "https://localhost:8080/"
        },
        "id": "6oJtpL8kT9CL",
        "outputId": "6f02517c-aeb3-4b53-830f-9f13d2473449"
      },
      "execution_count": 6,
      "outputs": [
        {
          "output_type": "stream",
          "name": "stdout",
          "text": [
            "[2, 3]\n"
          ]
        }
      ]
    },
    {
      "cell_type": "code",
      "source": [
        "#ques5;\n",
        "\n",
        "class FibonacciIterator:\n",
        "    def __init__(self, n):\n",
        "        self.n = n\n",
        "        self.a, self.b = 0, 1\n",
        "        self.count = 0\n",
        "    def __iter__(self):\n",
        "        return self\n",
        "\n",
        "    def __next__(self):\n",
        "        if self.count < self.n:\n",
        "            result = self.a\n",
        "            self.a, self.b = self.b, self.a + self.b\n",
        "            self.count += 1\n",
        "            return result\n",
        "        else:\n",
        "            raise StopIteration\n",
        "\n",
        "fibonacci = FibonacciIterator(10)\n",
        "for num in fibonacci:\n",
        "    print(num)\n"
      ],
      "metadata": {
        "colab": {
          "base_uri": "https://localhost:8080/"
        },
        "id": "2lsEGX10UTSc",
        "outputId": "1d6aafc1-06c5-4852-8ae8-c4dad94b1c57"
      },
      "execution_count": 7,
      "outputs": [
        {
          "output_type": "stream",
          "name": "stdout",
          "text": [
            "0\n",
            "1\n",
            "1\n",
            "2\n",
            "3\n",
            "5\n",
            "8\n",
            "13\n",
            "21\n",
            "34\n"
          ]
        }
      ]
    },
    {
      "cell_type": "code",
      "source": [
        "#ques6;\n",
        "\n",
        "def powers_of_two(exponent):\n",
        "    for i in range(exponent + 1):\n",
        "        yield 2 ** i\n",
        "\n",
        "\n",
        "for power in powers_of_two(5):\n",
        "    print(power)\n"
      ],
      "metadata": {
        "colab": {
          "base_uri": "https://localhost:8080/"
        },
        "id": "bvi5QJWfUvX-",
        "outputId": "17d6ffcb-c19a-41a4-e786-40536ff3d30a"
      },
      "execution_count": 8,
      "outputs": [
        {
          "output_type": "stream",
          "name": "stdout",
          "text": [
            "1\n",
            "2\n",
            "4\n",
            "8\n",
            "16\n",
            "32\n"
          ]
        }
      ]
    },
    {
      "cell_type": "code",
      "source": [
        "#ques7\n",
        "\n",
        "import os\n",
        "\n",
        "def read_file_line_by_line(file_path):\n",
        "\n",
        "    if not os.path.exists(file_path):\n",
        "        return \"Error: File does not exist.\"\n",
        "    if not os.path.isfile(file_path):\n",
        "        return \"Error: The path is not a valid file.\"\n",
        "\n",
        "\n",
        "    with open(file_path, 'r') as file:\n",
        "        for line in file:\n",
        "            yield line.strip()\n",
        "\n",
        "\n",
        "file_path = input(\"Please enter the file path: \")\n",
        "\n",
        "\n",
        "result = read_file_line_by_line(file_path)\n",
        "\n",
        "\n",
        "if isinstance(result, str):\n",
        "    print(result)\n",
        "else:\n",
        "    for line in result:\n",
        "        print(line)\n",
        "\n",
        "\n"
      ],
      "metadata": {
        "colab": {
          "base_uri": "https://localhost:8080/"
        },
        "id": "B3Ruggu7VbZF",
        "outputId": "d7389048-44b0-4d13-d490-c2ad9bb97617"
      },
      "execution_count": 17,
      "outputs": [
        {
          "name": "stdout",
          "output_type": "stream",
          "text": [
            "Please enter the file path: ajay\n"
          ]
        }
      ]
    },
    {
      "cell_type": "code",
      "source": [
        "#ques8;\n",
        "\n",
        "\n",
        "tuples_list = [(1, 3), (4, 1), (2, 2), (5, 5)]\n",
        "\n",
        "\n",
        "sorted_list = sorted(tuples_list, key=lambda x: x[1])\n",
        "\n",
        "\n",
        "print(sorted_list)\n",
        "\n",
        "\n",
        "\n"
      ],
      "metadata": {
        "colab": {
          "base_uri": "https://localhost:8080/"
        },
        "id": "Q2Uu6fGXWe_l",
        "outputId": "6585b3af-c1b1-48b6-f8b2-816478f75da2"
      },
      "execution_count": 18,
      "outputs": [
        {
          "output_type": "stream",
          "name": "stdout",
          "text": [
            "[(4, 1), (2, 2), (1, 3), (5, 5)]\n"
          ]
        }
      ]
    },
    {
      "cell_type": "code",
      "source": [
        "#ques9;\n",
        "\n",
        "\n",
        "celsius_temperatures = [0, 25, 30, 35, 40]\n",
        "\n",
        "\n",
        "def celsius_to_fahrenheit(celsius):\n",
        "    return (celsius * 9/5) + 32\n",
        "\n",
        "\n",
        "fahrenheit_temperatures = list(map(celsius_to_fahrenheit, celsius_temperatures))\n",
        "\n",
        "\n",
        "print(fahrenheit_temperatures)\n"
      ],
      "metadata": {
        "colab": {
          "base_uri": "https://localhost:8080/"
        },
        "id": "rYHMMrS3Xnty",
        "outputId": "bcc6f2b5-1aed-4b9d-9009-e9dcc118d5ac"
      },
      "execution_count": 19,
      "outputs": [
        {
          "output_type": "stream",
          "name": "stdout",
          "text": [
            "[32.0, 77.0, 86.0, 95.0, 104.0]\n"
          ]
        }
      ]
    },
    {
      "cell_type": "code",
      "source": [
        "#ques10;\n",
        "\n",
        "def is_not_vowel(char):\n",
        "    vowels = \"aeiouAEIOU\"\n",
        "    return char not in vowels\n",
        "\n",
        "\n",
        "input_string = \"Hello, World!\"\n",
        "\n",
        "\n",
        "filtered_string = ''.join(filter(is_not_vowel, input_string))\n",
        "\n",
        "\n",
        "print(filtered_string)\n"
      ],
      "metadata": {
        "colab": {
          "base_uri": "https://localhost:8080/"
        },
        "id": "vc1XrJeKYM1Y",
        "outputId": "d7f8fbea-f79b-4d14-b751-04fd1a5674e2"
      },
      "execution_count": 20,
      "outputs": [
        {
          "output_type": "stream",
          "name": "stdout",
          "text": [
            "Hll, Wrld!\n"
          ]
        }
      ]
    },
    {
      "cell_type": "code",
      "source": [
        "#ques 11;\n",
        "\n",
        "orders = [\n",
        "    [34587, 'Learning Python, Mark Lutz', 4, 40.95],\n",
        "    [98762, 'Programming Python, Mark L Lutz', 3, 56.80],\n",
        "    [77226, 'Head First Python, Paul Barry', 3, 32.95],\n",
        "    [88112, 'Einführung in Python3, Bernd Klein', 3, 24.99]\n",
        "]\n",
        "\n",
        "\n",
        "order_totals = list(map(lambda order: (\n",
        "    order[0],\n",
        "    (order[2] * order[3]) + 10 if (order[2] * order[3]) < 100 else order[2] * order[3]\n",
        "), orders))\n",
        "\n",
        "\n",
        "print(order_totals)\n"
      ],
      "metadata": {
        "colab": {
          "base_uri": "https://localhost:8080/"
        },
        "id": "tdGTjHPMYbp8",
        "outputId": "5c132d6f-c213-4cac-ff0d-704988eeb383"
      },
      "execution_count": 21,
      "outputs": [
        {
          "output_type": "stream",
          "name": "stdout",
          "text": [
            "[(34587, 163.8), (98762, 170.39999999999998), (77226, 108.85000000000001), (88112, 84.97)]\n"
          ]
        }
      ]
    },
    {
      "cell_type": "code",
      "source": [],
      "metadata": {
        "id": "ieHMpNLKZj4l"
      },
      "execution_count": null,
      "outputs": []
    }
  ]
}