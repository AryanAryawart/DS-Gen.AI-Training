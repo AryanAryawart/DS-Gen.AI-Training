{
 "cells": [
  {
   "cell_type": "markdown",
   "metadata": {
    "id": "Z61OvKrw9Ojd"
   },
   "source": [
    "# Ques-1->> What are data structures, and why are they important?\n",
    "Ans-1->> Data structures are a way of organizing and storing data so that it can be accessed and modified efficiently. They are important because they help to perform operations like searching, inserting, updating, and deleting data in an efficient manner.\n",
    "\n",
    "# Ques-2->> Explain the difference between mutable and immutable data types with examples.\n",
    "Ans-2->>  Mutable data types are those whose values can be changed after they are created.  e.g are list , dictionary, set ; Immutable data types are those whose values cannot be changed once they are created. e.g. Tuple , String\n",
    "\n",
    "# Ques-3->> What are the main differences between lists and tuples in Python?\n",
    "Ans-3->> lists are mutable and have many methods for manipulation while tuples are immutable  and offer better performance and memory efficiency. Lists are defined with square brackets [] and tuples with parentheses (). Lists are ideal for dynamic data while tuples are better for fixed constant data. Tuples can be used as dictionary keys unlike lists.\n",
    "\n",
    "\n",
    "# Ques-4->>  Describe how dictionaries store data?\n",
    "Ans-4->> dictionaries store data in pairs of keys and values. Each key is unique and it's used to quickly look up the corresponding value. dictionaries use a system that turns the key into a unique identifier allowing for fast access to the value. Keys must be immutable while values can be anything. If a key already exists you can update its value. This system makes dictionaries fast and efficient for storing and retrieving data.\n",
    "\n",
    "\n",
    "# Ques-5->> Why might you use a set instead of a list in Python?\n",
    "Ans-5->> Use a set when you need uniqueness or set operations and use a list when you need ordered data or the ability to have duplicate elements.\n",
    "\n",
    "# Ques-6->> What is a string in Python, and how is it different from a list?\n",
    "Ans-6->>  a string is a sequence of characters enclosed in single quotes ' ' or double quotes \" \". It represents text and is an immutable data type, meaning once a string is created, its content cannot be changed. For example, \"Hello, World!\" is a string.\n",
    "a list, on the other hand, is a collection of ordered items, which can be of any data type . Lists are mutable, meaning their contents can be modified you can add, remove, or change elements.\n",
    "\n",
    "# Ques-7->>  How do tuples ensure data integrity in Python?\n",
    "Ans-7->>  tuples ensure data integrity because they are immutable. Once a tuple is created its elements cannot be changed, added, or removed. This immutability guarantees that the data inside a tuple remains constant throughout the program protecting it from accidental modifications.\n",
    "\n",
    "# Ques-8->>What is a hash table, and how does it relate to dictionaries in Python?\n",
    "Ans-8->> A hash table is a data structure that stores key-value pairs allowing for fast retrieval of values based on a key. It works by applying a hash function to the key which converts it into an integercalled a hash value that determines where the value should be stored in memory. This enables constant time complexity for lookups insertions and deletions on average making hash tables very efficient for accessing data quickly. dictionaries are implemented using a hash table internally. When you create a dictionary and store key value pairs Python uses a hash table to organize and access the data. The key is hashed to find the appropriate index in memory where the corresponding value is stored.\n",
    "# Ques-9->> Can lists contain different data types in Python?\n",
    "Ans-9->> Yes lists in Python can contain elements of different data types. A list is a versatile data structure that allows you to store any type of data including integers strings floats booleans and even other lists or dictionaries. This flexibility makes lists a powerful tool for managing collections of mixed data types.\n",
    "\n",
    "# Ques-10->> Explain why strings are immutable in Python?\n",
    "Ans-10->> Strings in Python are immutable because they are designed to be efficient and secure. The immutability of strings means that once a string is created, its content cannot be changed. This behavior is implemented for several important reasons: efficiency , hashing , safety and security\n",
    "\n",
    "# Ques-11->>What advantages do dictionaries offer over lists for certain tasks?\n",
    "Ans-11->> Dictionaries in Python offer several advantages over lists, particularly for tasks that require fast lookups, key-based access, and storing related data. They provide constant time access to values via keys, unlike lists, which require linear search. Dictionaries store data as key-value pairs, making them ideal for mapping or structured data, and prevent duplicate keys, ensuring uniqueness. They also allow flexible data types for both keys and values. Additionally, dictionaries offer efficient insertion and deletion of key-value pairs, while lists can be slower in removing items by value. Overall, dictionaries are better for tasks requiring fast, organized, and unique data management.\n",
    "\n",
    "# Ques-12->>Describe a scenario where using a tuple would be preferable over a list.\n",
    "Ans-12-A tuple would be preferable over a list in a scenario where you need to store a collection of items that should remain constant and not be modified. For instance, consider storing the geographical coordinates (latitude and longitude) of a location. Since these values should not change, using a tuple makes sense as it guarantees immutability, meaning the data cannot be accidentally altered. This immutability also provides benefits in terms of performance and memory usage, as tuples are more efficient than lists for fixed data.\n",
    "\n",
    "# Ques-13->> How do sets handle duplicate values in Python?\n",
    "Ans-13->> Sets automatically handle duplicate values by removing them. A set is an unordered collection of unique elements, meaning that if you try to add a duplicate value to a set, it will simply ignore it. This behavior ensures that each element in a set appears only once.\n",
    "\n",
    "# Ques-14->> Write a code to find the index of the element \"cat\" in the tuple ('dog', 'cat', 'rabbit').\n",
    "Ans-14->> The in keyword behaves differently when used with lists and dictionaries in Python. For lists in checks if a specific value exists within the list by iterating through each element to see if it matches the specified value. For e.g. when you check if an element like 20 is in a list it will return True if the value is present and False if it is not. On the other hand when used with dictionaries in checks for the presence of a key rather than a value. It verifies if a particular key exists in the dictionary set of keys. For instance if you check if the key b is in a dictionary it will return True if b is a key and False if it isn't. To check for the existence of a value in a dictionary you would need to use the in keyword which checks the dictionary's values instead of keys. Therefore, while both lists and dictionaries use the in keyword to test membership the specific aspect being checked values for lists and keys for dictionaries differs.\n",
    "\n",
    "# Ques-15->>Can you modify the elements of a tuple? Explain why or why not?\n",
    "Ans-15->> Tuples in Python are immutable meaning that once they are created their elements cannot be modified added or removed. This immutability ensures that the data stored in a tuple remains consistent and unchangeable throughout the program. As a result if you attempt to change an element of a tuple you will encounter a TypeError. For e.g. trying to assign a new value to an element of a tuple will result in an error. However while you can't modify the elements directly you can reassign the entire tuple to a new tuple but this creates a new tuple rather than modifying the original one. The immutability of tuples is particularly useful in situations where data integrity is important such as when tuples are used as keys in dictionaries or as elements in sets where consistency is required for hashing. This property makes tuples a reliable choice for fixed collections of items that shouldn't be altered.\n",
    "\n",
    "# Ques-16->>What is a nested dictionary, and give an example of its use case?\n",
    "Ans-16->>A nested dictionary in Python is a dictionary inside another dictionary. It helps organize data in a way that each value can be another set of key value pairs. For example if you want to store information about employees you could use employee IDs as keys and each employee's details like name age and department as values in a nested dictionary. This makes it easier to store and access related data in an organized way.\n",
    "\n",
    "# Ques-17->> Describe the time complexity of accessing elements in a dictionary?\n",
    "Ans-17->> In Python the time complexity of accessing elements in a dictionary is O(1) on average. This means that it takes a constant amount of time to retrieve the value associated with a given key regardless of the size of the dictionary.Dictionaries in Python are implemented using hash tables where the key is hashed to find the corresponding value in constant time. In the best case scenario the time complexity for key lookups is O(1).However in rare cases such as hash collisions the time complexity can degrade to O(n) where n is the number of elements in the dictionary. But these collisions are infrequent and Python's dictionary implementation is optimized to handle them efficiently so in practice dictionary lookups are usually O(1).\n",
    "\n",
    "# Ques-18->> In what situations are lists preferred over dictionaries?\n",
    "Ans-18->> Lists are preferred over dictionaries in situations where you need to maintain an ordered collection of items and the order or position of the elements matters. They are ideal for storing sequential data where you may need to access elements by their index or iterate over them in a specific sequence. Lists are also a good choice when you don't need to associate values with unique keys and when you may have duplicate items. For example if you're storing a list of numbers names or other data that doesn't require key value pairs a list is a simpler and more appropriate choice than a dictionary. Lists are also useful when you need to perform operations like sorting appending or slicing data based on the position of elements.\n",
    "\n",
    "# Ques-19->>  Why are dictionaries considered unordered, and how does that affect data retrieval?\n",
    "Ans-19->> Dictionaries in Python are considered unordered because they store data using hash tables where keys are mapped to hash values rather than maintaining insertion order. Although dictionaries preserve insertion order starting .they are still unordered in terms of internal implementation. This doesn’t affect data retrieval since values are accessed directly via keys but if order is important other structures like lists or OrderedDict should be used.\n",
    "\n",
    "# Ques-20->> Explain the difference between a list and a dictionary in terms of data retrieval.\n",
    "Ans-20->> The main difference between a list and a dictionary in terms of data retrieval is how they access data. Lists use indices to retrieve elements which is fast when the index is known but searching for a value requires iterating through the list taking O(n) time. Dictionaries however use keys to retrieve values providing O(1)average time complexity for lookups. While lists are better for ordered data and positional access dictionaries excel at fast key based retrieval.\n",
    "\n"
   ]
  },
  {
   "cell_type": "code",
   "execution_count": 1,
   "metadata": {
    "id": "kOPyjqvTyT4e"
   },
   "outputs": [],
   "source": [
    "# PRACTICAL QUESTIONS\n"
   ]
  },
  {
   "cell_type": "code",
   "execution_count": 2,
   "metadata": {
    "colab": {
     "base_uri": "https://localhost:8080/"
    },
    "id": "K3R1F151yw--",
    "outputId": "a76894b4-117d-4f0a-bd45-1276c1a78954"
   },
   "outputs": [
    {
     "name": "stdout",
     "output_type": "stream",
     "text": [
      "Aryan_Shakya\n"
     ]
    }
   ],
   "source": [
    "#ques1; Write a code to create a string with your name and print it.\n",
    "my_name = \"Aryan_Shakya\"\n",
    "print(my_name)"
   ]
  },
  {
   "cell_type": "code",
   "execution_count": 3,
   "metadata": {
    "colab": {
     "base_uri": "https://localhost:8080/"
    },
    "id": "BgFvDYRczdKR",
    "outputId": "543334ea-ade3-4e25-9939-9a89843a16b6"
   },
   "outputs": [
    {
     "name": "stdout",
     "output_type": "stream",
     "text": [
      "11\n"
     ]
    }
   ],
   "source": [
    "#ques2; Write a code to find the length of the string \"Hello World\"\n",
    "my_string = \"Hello World\"\n",
    "length = len(my_string)\n",
    "print(length)\n"
   ]
  },
  {
   "cell_type": "code",
   "execution_count": 31,
   "metadata": {
    "colab": {
     "base_uri": "https://localhost:8080/"
    },
    "id": "l8_A8m_t0CrC",
    "outputId": "ae3038c9-3870-4a75-a34e-17c468e475e2"
   },
   "outputs": [
    {
     "name": "stdout",
     "output_type": "stream",
     "text": [
      "Pyt\n"
     ]
    }
   ],
   "source": [
    "#ques3; Write a code to slice the first 3 characters from the string \"Python Programming\"\n",
    "my_string = \"Python Programming\"\n",
    "sliced_string = my_string[0:4]\n",
    "print(sliced_string)\n"
   ]
  },
  {
   "cell_type": "code",
   "execution_count": 11,
   "metadata": {
    "colab": {
     "base_uri": "https://localhost:8080/"
    },
    "id": "TUMqBr4a1Omz",
    "outputId": "3c7d4b2a-48ec-4dd8-a718-82133c7de47a"
   },
   "outputs": [
    {
     "name": "stdout",
     "output_type": "stream",
     "text": [
      "HELLO\n"
     ]
    }
   ],
   "source": [
    "#ques4; Write a code to convert the string \"hello\" to uppercase\n",
    "my_string = \"hello\"\n",
    "uppercase_string = my_string.upper()\n",
    "print(uppercase_string)\n"
   ]
  },
  {
   "cell_type": "code",
   "execution_count": 12,
   "metadata": {
    "colab": {
     "base_uri": "https://localhost:8080/"
    },
    "id": "3yHmN8EX1yne",
    "outputId": "8a73d8df-1c29-42d2-caa9-10182a2bbecd"
   },
   "outputs": [
    {
     "name": "stdout",
     "output_type": "stream",
     "text": [
      "I like orange\n"
     ]
    }
   ],
   "source": [
    "#ques5; Write a code to replace the word \"apple\" with \"orange\" in the string \"I like apple\"\n",
    "my_string = \"I like apple\"\n",
    "new_string = my_string.replace(\"apple\", \"orange\")\n",
    "print(new_string)"
   ]
  },
  {
   "cell_type": "code",
   "execution_count": 14,
   "metadata": {
    "colab": {
     "base_uri": "https://localhost:8080/"
    },
    "id": "1s3y58Ns2JQC",
    "outputId": "3cea8672-70b4-4815-a9d8-385d1467f4bf"
   },
   "outputs": [
    {
     "name": "stdout",
     "output_type": "stream",
     "text": [
      "[1, 2, 3, 4, 5]\n"
     ]
    }
   ],
   "source": [
    "#ques6; Write a code to create a list with numbers 1 to 5 and print it\n",
    "my_list = [1, 2, 3, 4, 5]\n",
    "print(my_list)\n"
   ]
  },
  {
   "cell_type": "code",
   "execution_count": 15,
   "metadata": {
    "colab": {
     "base_uri": "https://localhost:8080/"
    },
    "id": "hXoVJRZK331N",
    "outputId": "83e713fb-7a0c-41b7-fbe5-8ae7f5de5c39"
   },
   "outputs": [
    {
     "name": "stdout",
     "output_type": "stream",
     "text": [
      "[1, 2, 3, 4, 10]\n"
     ]
    }
   ],
   "source": [
    "#ques7; Write a code to append the number 10 to the list [1, 2, 3, 4]\n",
    "my_list = [1, 2, 3, 4]\n",
    "my_list.append(10)\n",
    "print(my_list)\n"
   ]
  },
  {
   "cell_type": "code",
   "execution_count": 16,
   "metadata": {
    "colab": {
     "base_uri": "https://localhost:8080/"
    },
    "id": "tarW2Raw4L7F",
    "outputId": "16d1970c-3d06-4000-bde4-09e5e7a62848"
   },
   "outputs": [
    {
     "name": "stdout",
     "output_type": "stream",
     "text": [
      "[1, 2, 4, 5]\n"
     ]
    }
   ],
   "source": [
    "#ques8; Write a code to remove the number 3 from the list [1, 2, 3, 4, 5]\n",
    "my_list = [1, 2, 3, 4, 5]\n",
    "my_list.remove(3)\n",
    "print(my_list)\n"
   ]
  },
  {
   "cell_type": "code",
   "execution_count": null,
   "metadata": {
    "id": "VpOqxDYj4ifI"
   },
   "outputs": [],
   "source": [
    "#ques9; Write a code to access the second element in the list ['a', 'b', 'c', 'd']\n",
    "my_list = ['a', 'b', 'c', 'd']\n",
    "second_element = my_list[1]\n",
    "print(second_element)\n"
   ]
  },
  {
   "cell_type": "code",
   "execution_count": 17,
   "metadata": {
    "colab": {
     "base_uri": "https://localhost:8080/"
    },
    "id": "Le5oxlMb46WO",
    "outputId": "42b3a8ac-7479-4ba7-c96a-4c833246925b"
   },
   "outputs": [
    {
     "name": "stdout",
     "output_type": "stream",
     "text": [
      "[50, 40, 30, 20, 10]\n"
     ]
    }
   ],
   "source": [
    "#ques10;Write a code to reverse the list [10, 20, 30, 40, 50].\n",
    "my_list = [10, 20, 30, 40, 50]\n",
    "my_list.reverse()\n",
    "print(my_list)\n"
   ]
  },
  {
   "cell_type": "code",
   "execution_count": 18,
   "metadata": {
    "colab": {
     "base_uri": "https://localhost:8080/"
    },
    "id": "RoH63lRr5vCS",
    "outputId": "27b4a332-682a-4226-b262-ead6b3cc0bf5"
   },
   "outputs": [
    {
     "name": "stdout",
     "output_type": "stream",
     "text": [
      "(100, 200, 300)\n"
     ]
    }
   ],
   "source": [
    "#ques11;Write a code to create a tuple with the elements 100, 200, 300 and print\n",
    "my_tuple = (100, 200, 300)\n",
    "print(my_tuple)\n"
   ]
  },
  {
   "cell_type": "code",
   "execution_count": 19,
   "metadata": {
    "colab": {
     "base_uri": "https://localhost:8080/"
    },
    "id": "c5iRBQPX5_Jg",
    "outputId": "b293268b-e919-4d7b-a5ce-7657b6627412"
   },
   "outputs": [
    {
     "name": "stdout",
     "output_type": "stream",
     "text": [
      "blue\n"
     ]
    }
   ],
   "source": [
    "#ques12;Write a code to access the second-to-last element of the tuple ('red', 'green', 'blue', 'yellow').\n",
    "my_tuple = ('red', 'green', 'blue', 'yellow')\n",
    "second_to_last_element = my_tuple[-2]\n",
    "print(second_to_last_element)\n"
   ]
  },
  {
   "cell_type": "code",
   "execution_count": 20,
   "metadata": {
    "colab": {
     "base_uri": "https://localhost:8080/"
    },
    "id": "81GdM_Jb6UU7",
    "outputId": "94f2aac3-abbc-42fd-fe64-0721ded699c3"
   },
   "outputs": [
    {
     "name": "stdout",
     "output_type": "stream",
     "text": [
      "5\n"
     ]
    }
   ],
   "source": [
    "#ques13;Write a code to find the minimum number in the tuple (10, 20, 5, 15).\n",
    "my_tuple = (10, 20, 5, 15)\n",
    "min_value = min(my_tuple)\n",
    "print(min_value)\n"
   ]
  },
  {
   "cell_type": "code",
   "execution_count": 21,
   "metadata": {
    "colab": {
     "base_uri": "https://localhost:8080/"
    },
    "id": "6TNFWdqP6pnH",
    "outputId": "4206fa3d-96ca-4d7e-c034-0b85d3cfc938"
   },
   "outputs": [
    {
     "name": "stdout",
     "output_type": "stream",
     "text": [
      "1\n"
     ]
    }
   ],
   "source": [
    "#ques14;Write a code to find the index of the element \"cat\" in the tuple ('dog', 'cat', 'rabbit').\n",
    "my_tuple = ('dog', 'cat', 'rabbit')\n",
    "index = my_tuple.index('cat')\n",
    "print(index)"
   ]
  },
  {
   "cell_type": "code",
   "execution_count": 22,
   "metadata": {
    "colab": {
     "base_uri": "https://localhost:8080/"
    },
    "id": "0707x5P460JW",
    "outputId": "30724c93-ef2f-4096-ccab-c0d10e9648d6"
   },
   "outputs": [
    {
     "name": "stdout",
     "output_type": "stream",
     "text": [
      "kiwi is not in the tuple\n"
     ]
    }
   ],
   "source": [
    "#ques15; Write a code to create a tuple containing three different fruits and check if \"kiwi\" is in it.\n",
    "my_tuple = ('apple', 'banana', 'orange')\n",
    "if 'kiwi' in my_tuple:\n",
    "    print(\"kiwi is in the tuple\")\n",
    "else:\n",
    "    print(\"kiwi is not in the tuple\")"
   ]
  },
  {
   "cell_type": "code",
   "execution_count": 32,
   "metadata": {
    "colab": {
     "base_uri": "https://localhost:8080/"
    },
    "id": "8KiJCOJh-JtH",
    "outputId": "9b3ffd85-e609-4c84-fea7-1a019184af5d"
   },
   "outputs": [
    {
     "name": "stdout",
     "output_type": "stream",
     "text": [
      "{'a', 'c', 'b'}\n"
     ]
    }
   ],
   "source": [
    "#ques16; Write a code to create a set with the elements 'a', 'b', 'c' and print it.\n",
    "my_set = {\"a\",\"b\",\"c\"}\n",
    "print(my_set)\n"
   ]
  },
  {
   "cell_type": "code",
   "execution_count": 33,
   "metadata": {
    "colab": {
     "base_uri": "https://localhost:8080/"
    },
    "id": "e70KSW3Q-trn",
    "outputId": "053e9138-907f-4879-b978-032fa041d5dc"
   },
   "outputs": [
    {
     "name": "stdout",
     "output_type": "stream",
     "text": [
      "set()\n"
     ]
    }
   ],
   "source": [
    "#ques17;  Write a code to clear all elements from the set {1, 2, 3, 4, 5}.\n",
    "my_set = {1, 2, 3, 4, 5}\n",
    "my_set.clear()\n",
    "print(my_set)\n"
   ]
  },
  {
   "cell_type": "code",
   "execution_count": 34,
   "metadata": {
    "colab": {
     "base_uri": "https://localhost:8080/"
    },
    "id": "m1ONpJaGAsSS",
    "outputId": "c0ee8de7-4760-4651-bf54-23a9c8ae87c1"
   },
   "outputs": [
    {
     "name": "stdout",
     "output_type": "stream",
     "text": [
      "{1, 2, 3}\n"
     ]
    }
   ],
   "source": [
    "#ques18;  Write a code to remove the element 4 from the set {1, 2, 3, 4}.\n",
    "my_set = {1, 2, 3, 4}\n",
    "my_set.remove(4)\n",
    "print(my_set)\n"
   ]
  },
  {
   "cell_type": "code",
   "execution_count": 35,
   "metadata": {
    "colab": {
     "base_uri": "https://localhost:8080/"
    },
    "id": "pVVgNaZHBdRi",
    "outputId": "c6ab43bd-92e3-4839-e395-cbd359640636"
   },
   "outputs": [
    {
     "name": "stdout",
     "output_type": "stream",
     "text": [
      "{1, 2, 3, 4, 5}\n"
     ]
    }
   ],
   "source": [
    "#ques19;Write a code to find the union of two sets {1, 2, 3} and {3, 4, 5}.\n",
    "set1 = {1, 2, 3}\n",
    "set2 = {3, 4, 5}\n",
    "union_set = set1 | set2\n",
    "print(union_set)\n"
   ]
  },
  {
   "cell_type": "code",
   "execution_count": 36,
   "metadata": {
    "colab": {
     "base_uri": "https://localhost:8080/"
    },
    "id": "nNTPRlNZCLH8",
    "outputId": "e967ea8c-dded-4630-de01-85ae68675b23"
   },
   "outputs": [
    {
     "name": "stdout",
     "output_type": "stream",
     "text": [
      "{2, 3}\n"
     ]
    }
   ],
   "source": [
    "#ques20;Write a code to find the intersection of two sets {1, 2, 3} and {2, 3, 4}.\n",
    "set1 = {1, 2, 3}\n",
    "set2 = {2, 3, 4}\n",
    "intersection_set = set1 & set2\n",
    "print(intersection_set)\n",
    "\n"
   ]
  },
  {
   "cell_type": "code",
   "execution_count": 37,
   "metadata": {
    "colab": {
     "base_uri": "https://localhost:8080/"
    },
    "id": "7QMdoOtWDDhP",
    "outputId": "be17a6eb-a37d-46e9-efe7-e409e77870c5"
   },
   "outputs": [
    {
     "name": "stdout",
     "output_type": "stream",
     "text": [
      "Enter your name: Thala For A Reason 7\n",
      "Enter your age: 43\n",
      "Enter your city: Chennai Super Kings\n",
      "{'name': 'Thala For A Reason 7', 'age': '43', 'city': 'Chennai Super Kings'}\n"
     ]
    }
   ],
   "source": [
    "#ques21; Write a code to create a dictionary with the keys \"name\", \"age\", and \"city\", and print it.\n",
    "# Take user input for each key\n",
    "name = input(\"Enter your name: \")\n",
    "age = input(\"Enter your age: \")\n",
    "city = input(\"Enter your city: \")\n",
    "my_dict = {\n",
    "    \"name\": name,\n",
    "    \"age\": age,\n",
    "    \"city\": city\n",
    "}\n",
    "print(my_dict)\n"
   ]
  },
  {
   "cell_type": "code",
   "execution_count": 40,
   "metadata": {
    "colab": {
     "base_uri": "https://localhost:8080/"
    },
    "id": "jnkqapRnDt9D",
    "outputId": "bc093650-1eeb-4c95-c9cd-31493c67a5bd"
   },
   "outputs": [
    {
     "name": "stdout",
     "output_type": "stream",
     "text": [
      "Enter your name: john\n",
      "Enter your age: 34\n",
      "{'name': 'john', 'age': '34', 'country': 'USA'}\n"
     ]
    }
   ],
   "source": [
    "#ques22;  Write a code to add a new key-value pair \"country\": \"USA\" to the dictionary {'name': 'John', 'age': 25}.\n",
    "name = input(\"Enter your name: \")\n",
    "age = input(\"Enter your age: \")\n",
    "my_dict = {'name': name, 'age': age}\n",
    "my_dict[\"country\"] = \"USA\"\n",
    "print(my_dict)\n",
    "\n"
   ]
  },
  {
   "cell_type": "code",
   "execution_count": 41,
   "metadata": {
    "colab": {
     "base_uri": "https://localhost:8080/"
    },
    "id": "XYRgcHlEE-l7",
    "outputId": "1b77412d-0fc9-4619-ea3c-3c83e716cccb"
   },
   "outputs": [
    {
     "name": "stdout",
     "output_type": "stream",
     "text": [
      "Alice\n"
     ]
    }
   ],
   "source": [
    "#ques23;Write a code to access the value associated with the key \"name\" in the dictionary {'name': 'Alice', 'age': 30}.\n",
    "my_dict = {'name': 'Alice', 'age': 30}\n",
    "name_value = my_dict['name']\n",
    "print(name_value)\n"
   ]
  },
  {
   "cell_type": "code",
   "execution_count": 43,
   "metadata": {
    "colab": {
     "base_uri": "https://localhost:8080/"
    },
    "id": "rIP_L69XFVYO",
    "outputId": "60a01fbe-dd72-47a3-df78-12db69adfd80"
   },
   "outputs": [
    {
     "name": "stdout",
     "output_type": "stream",
     "text": [
      "{'name': 'Bob', 'city': 'New York'}\n"
     ]
    }
   ],
   "source": [
    "#ques24; Write a code to remove the key \"age\" from the dictionary {'name': 'Bob', 'age': 22, 'city': 'New York'}.\n",
    "my_dict = {'name': 'Bob', 'age': 22, 'city': 'New York'}\n",
    "del my_dict['age']\n",
    "print(my_dict)\n"
   ]
  },
  {
   "cell_type": "code",
   "execution_count": 44,
   "metadata": {
    "colab": {
     "base_uri": "https://localhost:8080/"
    },
    "id": "8oXTGRSGFwXh",
    "outputId": "f5547ccb-6dc1-4c9d-9d71-d247bf96952c"
   },
   "outputs": [
    {
     "name": "stdout",
     "output_type": "stream",
     "text": [
      "The key 'city' exists in the dictionary.\n"
     ]
    }
   ],
   "source": [
    "#ques25;Write a code to check if the key \"city\" exists in the dictionary {'name': 'Alice', 'city': 'Paris'}\n",
    "my_dict = {'name': 'Alice', 'city': 'Paris'}\n",
    "if \"city\" in my_dict:\n",
    "    print(\"The key 'city' exists in the dictionary.\")\n",
    "else:\n",
    "    print(\"The key 'city' does not exist in the dictionary.\")\n"
   ]
  },
  {
   "cell_type": "code",
   "execution_count": 45,
   "metadata": {
    "colab": {
     "base_uri": "https://localhost:8080/"
    },
    "id": "2saMa8IxGJzp",
    "outputId": "c1f74dbd-d3bc-4652-a800-a22c10afa000"
   },
   "outputs": [
    {
     "name": "stdout",
     "output_type": "stream",
     "text": [
      "List: [1, 2, 3, 4, 5]\n",
      "Tuple: ('apple', 'banana', 'cherry')\n",
      "Dictionary: {'name': 'John', 'age': 30, 'city': 'New York'}\n"
     ]
    }
   ],
   "source": [
    "#ques26; Write a code to create a list, a tuple, and a dictionary, and print them all.\n",
    "my_list = [1, 2, 3, 4, 5]\n",
    "my_tuple = ('apple', 'banana', 'cherry')\n",
    "my_dict = {'name': 'John', 'age': 30, 'city': 'New York'}\n",
    "print(\"List:\", my_list)\n",
    "print(\"Tuple:\", my_tuple)\n",
    "print(\"Dictionary:\", my_dict)\n"
   ]
  },
  {
   "cell_type": "code",
   "execution_count": 46,
   "metadata": {
    "colab": {
     "base_uri": "https://localhost:8080/"
    },
    "id": "I4OmvPc2Gfk3",
    "outputId": "5f1521a7-e883-4759-e1b0-793fb6c2d9ec"
   },
   "outputs": [
    {
     "name": "stdout",
     "output_type": "stream",
     "text": [
      "Sorted random numbers: [20, 65, 68, 76, 92]\n"
     ]
    }
   ],
   "source": [
    "#ques27;Write a code to create a list of 5 random numbers between 1 and 100, sort it in ascending order, and print the\n",
    "#result.(replaced)\n",
    "\n",
    "import random\n",
    "random_numbers = [random.randint(1, 100) for _ in range(5)]\n",
    "random_numbers.sort()\n",
    "print(\"Sorted random numbers:\", random_numbers)\n"
   ]
  },
  {
   "cell_type": "code",
   "execution_count": 47,
   "metadata": {
    "colab": {
     "base_uri": "https://localhost:8080/"
    },
    "id": "LXYaVgYTHN5L",
    "outputId": "eafd7409-01ac-4599-da20-5eb74c031c40"
   },
   "outputs": [
    {
     "name": "stdout",
     "output_type": "stream",
     "text": [
      "date\n"
     ]
    }
   ],
   "source": [
    "#ques28;Write a code to create a list with strings and print the element at the third index\n",
    "my_list = [\"apple\", \"banana\", \"cherry\", \"date\", \"elderberry\"]\n",
    "print(my_list[3])\n"
   ]
  },
  {
   "cell_type": "code",
   "execution_count": 48,
   "metadata": {
    "colab": {
     "base_uri": "https://localhost:8080/"
    },
    "id": "qTaF3hk_HfiV",
    "outputId": "5218ed92-e7be-46fc-ae45-0983e4e1d03a"
   },
   "outputs": [
    {
     "name": "stdout",
     "output_type": "stream",
     "text": [
      "{'name': 'Alice', 'age': 25, 'city': 'Paris', 'country': 'France'}\n"
     ]
    }
   ],
   "source": [
    "#ques29;  Write a code to combine two dictionaries into one and print the result.\n",
    "dict1 = {'name': 'Alice', 'age': 25}\n",
    "dict2 = {'city': 'Paris', 'country': 'France'}\n",
    "combined_dict = {**dict1, **dict2}\n",
    "print(combined_dict)\n"
   ]
  },
  {
   "cell_type": "code",
   "execution_count": 49,
   "metadata": {
    "colab": {
     "base_uri": "https://localhost:8080/"
    },
    "id": "oNcFw3DqH-Mx",
    "outputId": "4a3b890f-6707-428d-b73a-86aaaa10f03d"
   },
   "outputs": [
    {
     "name": "stdout",
     "output_type": "stream",
     "text": [
      "{'banana', 'apple', 'date', 'cherry'}\n"
     ]
    }
   ],
   "source": [
    "#ques30; Write a code to convert a list of strings into a set\n",
    "my_list = [\"apple\", \"banana\", \"cherry\", \"apple\", \"date\"]\n",
    "my_set = set(my_list)\n",
    "print(my_set)\n"
   ]
  }
 ],
 "metadata": {
  "colab": {
   "provenance": []
  },
  "kernelspec": {
   "display_name": "Python [conda env:base] *",
   "language": "python",
   "name": "conda-base-py"
  },
  "language_info": {
   "codemirror_mode": {
    "name": "ipython",
    "version": 3
   },
   "file_extension": ".py",
   "mimetype": "text/x-python",
   "name": "python",
   "nbconvert_exporter": "python",
   "pygments_lexer": "ipython3",
   "version": "3.12.7"
  }
 },
 "nbformat": 4,
 "nbformat_minor": 4
}
