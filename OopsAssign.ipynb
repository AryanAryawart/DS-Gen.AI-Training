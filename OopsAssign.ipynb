{
  "nbformat": 4,
  "nbformat_minor": 0,
  "metadata": {
    "colab": {
      "provenance": []
    },
    "kernelspec": {
      "name": "python3",
      "display_name": "Python 3"
    },
    "language_info": {
      "name": "python"
    }
  },
  "cells": [
    {
      "cell_type": "code",
      "execution_count": null,
      "metadata": {
        "id": "0A6HjWpUoVbd"
      },
      "outputs": [],
      "source": []
    },
    {
      "cell_type": "markdown",
      "source": [
        "Theoretical Question"
      ],
      "metadata": {
        "id": "asz_EEB1orJZ"
      }
    },
    {
      "cell_type": "markdown",
      "source": [
        "Ques1-->>\n",
        "\n",
        "Ans-->>  Object-Oriented Programming (OOP) is a programming paradigm based on the concept of \"objects\", which contain data in the form of attributes and code in the form of methods. It allows programmers to model real-world entities as objects and design applications using these interconnected objects.\n",
        "\n",
        "OOP in Python helps in organizing code into reusable and modular components. It emphasizes concepts such as encapsulation, inheritance, polymorphism, and abstraction."
      ],
      "metadata": {
        "id": "Wmlhqm08pUOd"
      }
    },
    {
      "cell_type": "code",
      "source": [],
      "metadata": {
        "id": "BY44fkN3pp9D"
      },
      "execution_count": null,
      "outputs": []
    },
    {
      "cell_type": "markdown",
      "source": [
        "Ques2-->>\n",
        "\n",
        "Ans-->> A class in Object-Oriented Programming  is a user-defined data structure that acts as a blueprint or template for creating objects. It defines attributes also called data members and methods functions that describe the behavior and state of the objects created from the class."
      ],
      "metadata": {
        "id": "5eY1PF8_prZh"
      }
    },
    {
      "cell_type": "code",
      "source": [],
      "metadata": {
        "id": "Zevxg5kZqCJw"
      },
      "execution_count": null,
      "outputs": []
    },
    {
      "cell_type": "markdown",
      "source": [
        "Ques3-->>\n",
        "\n",
        "Ans-->>An object in Object-Oriented Programming  is an instance of a class. It represents a real-world entity and contains both data attributes and behavior methods defined by its class.\n",
        "\n",
        "When a class is defined, no memory is allocated until an object is created. Objects are used to access the members variables and functions of a class."
      ],
      "metadata": {
        "id": "TTjA0nqtqDvs"
      }
    },
    {
      "cell_type": "code",
      "source": [],
      "metadata": {
        "id": "BgJaXFfYqWSp"
      },
      "execution_count": null,
      "outputs": []
    },
    {
      "cell_type": "markdown",
      "source": [
        "Ques4-->>\n",
        "\n",
        "Ans-->> 1. Abstraction:\n",
        "\n",
        "Abstraction is the process of hiding the internal implementation details of a system and exposing only the essential features to the user. It focuses on what an object does rather than how it does it. Abstraction helps reduce complexity and improves code readability by showing only relevant information. In Python, abstraction can be implemented using abstract classes and the abstractmethod decorator from the abc module.\n",
        "\n",
        "Example: In a Vehicle class, we might define a method start without revealing how the engine works internally.\n",
        "\n",
        "---\n",
        "\n",
        "2. Encapsulation:\n",
        "\n",
        "Encapsulation is the process of binding data and the methods that operate on that data into a single unit, usually a class. It is used to protect the internal state of an object from being accessed or modified directly. Encapsulation ensures data hiding by making variables private using  and allowing access only through public methods. This leads to increased security and controlled access to the data.\n",
        "\n",
        "Example: In a BankAccount class, the balance can be made private and accessed only through methods like deposit() or get_balance()."
      ],
      "metadata": {
        "id": "CQ_NC5XHqXfl"
      }
    },
    {
      "cell_type": "code",
      "source": [],
      "metadata": {
        "id": "MEmLDUkCrXzC"
      },
      "execution_count": null,
      "outputs": []
    },
    {
      "cell_type": "markdown",
      "source": [
        "Ques5-->>\n",
        "\n",
        "Ans-->> Dunder methods, also known as magic methods or special methods, are methods in Python that have double underscores (__) before and after their names. These methods allow us to define how objects behave when they are involved in certain operations or built-in functions.\n",
        "\n",
        "Dunder methods enable operator overloading, customizing object behavior, and interfacing with Python’s built-in functions. These methods are automatically called when you use certain syntax or operations on objects."
      ],
      "metadata": {
        "id": "9dIXUNDJriUv"
      }
    },
    {
      "cell_type": "code",
      "source": [],
      "metadata": {
        "id": "j-_ePOPWrwwJ"
      },
      "execution_count": null,
      "outputs": []
    },
    {
      "cell_type": "markdown",
      "source": [
        "Ques6-->>\n",
        "\n",
        "Ans-->> Inheritance is a fundamental concept in Object-Oriented Programming OOP that allows a new class child class to inherit the attributes and methods of an existing class parent class. This promotes code reuse and establishes a relationship between the parent and child classes, enabling the child class to use or modify the behavior of the parent class."
      ],
      "metadata": {
        "id": "y-74VGx8rz_M"
      }
    },
    {
      "cell_type": "code",
      "source": [],
      "metadata": {
        "id": "kkQks8cEsTLc"
      },
      "execution_count": null,
      "outputs": []
    },
    {
      "cell_type": "markdown",
      "source": [
        "Ques7-->>\n",
        "\n",
        "Ans-->>Polymorphism is a core concept in Object-Oriented Programming  that allows objects of different classes to be treated as objects of a common superclass. It is the ability to use a single interface to represent different types of actions. The term polymorphism literally means many forms and it allows methods to have different implementations depending on the object that is calling them , polymorphism can be achieved through method overriding and method overloading ."
      ],
      "metadata": {
        "id": "v9TGTq5IsUDN"
      }
    },
    {
      "cell_type": "code",
      "source": [],
      "metadata": {
        "id": "sDH6xWv4suV5"
      },
      "execution_count": null,
      "outputs": []
    },
    {
      "cell_type": "markdown",
      "source": [
        "Ques8-->>\n",
        "\n",
        "Ans-->> Encapsulation is one of the fundamental principles of Object-Oriented Programming . It refers to the concept of bundling the data attributes and the methods that operate on the data within a single unit, typically a class. Moreover, it involves restricting access to some of the object’s components to protect the integrity of the object and prevent unintended interference.\n",
        "\n",
        " encapsulation is achieved through the use of access modifiers. These modifiers control the visibility and access of an object’s attributes and methods. Python supports three levels of access control:\n",
        "\n",
        "Public Access: By default all attributes and methods are public in Python. This means they can be accessed and modified freely from outside the class.\n",
        "\n",
        "Protected Access: This is achieved by prefixing an attribute or method with a single underscore (_). While not strictly private, it is a convention to indicate that the variable or method is intended for internal use and should not be accessed directly from outside the class.\n",
        "\n",
        "Private Access: To make attributes or methods truly private, a double underscore (__) is used. This leads to name mangling, where the name of the attribute is internally changed to prevent accidental access or modification."
      ],
      "metadata": {
        "id": "1ANjyZeRsvNw"
      }
    },
    {
      "cell_type": "code",
      "source": [],
      "metadata": {
        "id": "zJzgFqvttYol"
      },
      "execution_count": null,
      "outputs": []
    },
    {
      "cell_type": "markdown",
      "source": [
        "Ques9-->>\n",
        "\n",
        "Ans-->>  A constructor in Python is a special function that is automatically called when an object of a class is created. It is used to initialize or set up the attributes  of the new object with specific values when the object is created."
      ],
      "metadata": {
        "id": "DfJLy6XwtbXi"
      }
    },
    {
      "cell_type": "code",
      "source": [],
      "metadata": {
        "id": "ohQHSbg8t1Rf"
      },
      "execution_count": null,
      "outputs": []
    },
    {
      "cell_type": "markdown",
      "source": [
        "Ques10-->>\n",
        "\n",
        "Ans-->>Class Methods:\n",
        "\n",
        "A class method is a type of method that is related to the class itself, not the specific object or instance created from that class. When you define a class method, it takes the class as its first argument often called cls instead of the instance which would use self. This means that a class method works with data that is common to all objects of that class, rather than with individual objects.\n",
        "For example, if you want to change something that is shared across all objects of a class, like a class variable, you would use a class method. It's useful when you want to do something that applies to the class itself, such as modifying or accessing class-level information.\n",
        "When you define a class method, you use a special decorator called classmethod. Once defined, you can call this method either from the class itself or from an instance object of the class.\n",
        "\n",
        "\n",
        "\n",
        "Static Methods:\n",
        "\n",
        "\n",
        "A static method, on the other hand, is a method that doesn’t depend on the instance or class at all. It is just a function that is placed inside the class because it makes logical sense to group it there, even though it doesn't interact with class or instance data. This method doesn’t take self or cls as arguments. It only works with the parameters you pass to it.\n",
        "\n",
        "Static methods are often used when you want to write a utility function that belongs to the class but doesn't need access to any attributes or methods of the class or its instances. It’s just a normal method that is grouped within the class for organizational purposes.\n",
        "\n",
        "You define a static method with the staticmethod decorator. Once it’s defined, you can call it directly from the class or an instance, but it doesn’t have access to instance or class data"
      ],
      "metadata": {
        "id": "AjPHIwH_t16J"
      }
    },
    {
      "cell_type": "code",
      "source": [],
      "metadata": {
        "id": "xIgnvZ0su08z"
      },
      "execution_count": null,
      "outputs": []
    },
    {
      "cell_type": "markdown",
      "source": [
        "Ques11-->>\n",
        "\n",
        "Ans-->> In Object-Oriented Programming , method overloading is a concept where multiple methods in a class can have the same name but with different parameters or number or type. The idea is that the method can be called with different arguments, and the method will behave differently based on the arguments passed."
      ],
      "metadata": {
        "id": "oAOCUq0ju34d"
      }
    },
    {
      "cell_type": "code",
      "source": [],
      "metadata": {
        "id": "n1FKtRlivMtH"
      },
      "execution_count": null,
      "outputs": []
    },
    {
      "cell_type": "markdown",
      "source": [
        "Ques12-->>\n",
        "\n",
        "Ans-->> Method Overriding is a concept in Object-Oriented Programming  where a subclass provides a specific implementation of a method that is already defined in its parent class. In other words, the subclass redefines or overrides the behavior of a method inherited from the parent class to provide its own version of the method.\n",
        "\n",
        "This is useful when a subclass needs to modify or extend the behavior of a method that it inherits from its superclass, allowing the subclass to provide its own specialized behavior while still maintaining the same method signature (name and parameters)."
      ],
      "metadata": {
        "id": "EiMih6r8vNiO"
      }
    },
    {
      "cell_type": "code",
      "source": [],
      "metadata": {
        "id": "JiOXoceevhJb"
      },
      "execution_count": null,
      "outputs": []
    },
    {
      "cell_type": "markdown",
      "source": [
        "Ques13-->>\n",
        "\n",
        "Ans-->> In Python, the property decorator is used to define a method as a getter for an attribute. It allows you to define methods that behave like attributes, meaning you can access them without needing to call them like functions. This is useful when you want to control how attributes are accessed and modified while keeping the interface simple, i.e., using a method like an attribute."
      ],
      "metadata": {
        "id": "D6Sjnj7YvieA"
      }
    },
    {
      "cell_type": "code",
      "source": [],
      "metadata": {
        "id": "oLl-njX2v3ib"
      },
      "execution_count": null,
      "outputs": []
    },
    {
      "cell_type": "markdown",
      "source": [
        "Ques14-->>\n",
        "\n",
        "Ans-->>  Polymorphism in OOP is important because it:\n",
        "\n",
        "1. Enhances Code Reusability: The same method can be used for objects of different classes, reducing redundancy.\n",
        "2. Increases Flexibility: It allows methods to work with objects of different types without knowing their specific class.\n",
        "3. Simplifies Code: One method can handle different objects, making the code cleaner and more manageable.\n",
        "4. Improves Maintainability: Changes are localized to specific classes without affecting other parts of the system.\n",
        "5. Supports Dynamic Behavior: It enables methods to be determined at runtime, allowing for adaptable and flexible systems."
      ],
      "metadata": {
        "id": "l_MbDa-ev4Da"
      }
    },
    {
      "cell_type": "code",
      "source": [],
      "metadata": {
        "id": "YNCg6m1Bwieo"
      },
      "execution_count": null,
      "outputs": []
    },
    {
      "cell_type": "markdown",
      "source": [
        "Ques15-->>\n",
        "\n",
        "Ans-->> An abstract class in Python is a class that cannot be instantiated on its own and is meant to be subclassed by other classes. It serves as a blueprint for other classes. An abstract class may contain abstract methods, which are methods that are declared but have no implementation in the abstract class. These methods must be implemented by subclasses."
      ],
      "metadata": {
        "id": "XBKXLUYhwju7"
      }
    },
    {
      "cell_type": "code",
      "source": [],
      "metadata": {
        "id": "JUA3-tO6wyta"
      },
      "execution_count": null,
      "outputs": []
    },
    {
      "cell_type": "markdown",
      "source": [
        "Ques16-->>\n",
        "\n",
        "Ans-->>  advantages:\n",
        "\n",
        "- Code reusability: Classes can be reused across projects, reducing redundancy.  \n",
        "- Encapsulation: Protects data by hiding internal details.  \n",
        "- Inheritance: New classes can inherit properties and methods from existing ones for efficient code extension.  \n",
        "- Polymorphism: The same method can be used on different object types, providing flexibility.  \n",
        "- Improved maintainability: Modifications to one class don’t affect others.  \n",
        "- Abstraction: Simplifies complex systems by focusing on essential details.  \n",
        "- Scalability: Makes it easier to extend systems without major changes.  \n",
        "- Easier troubleshooting: Problems can be isolated within specific classes.  \n",
        "- Better collaboration: Classes map to real-world entities, making team development easier."
      ],
      "metadata": {
        "id": "Izw2pJynw1A5"
      }
    },
    {
      "cell_type": "code",
      "source": [],
      "metadata": {
        "id": "-b-dRbRgyYs1"
      },
      "execution_count": null,
      "outputs": []
    },
    {
      "cell_type": "markdown",
      "source": [
        "Ques17-->>\n",
        "\n",
        "Ans-->> Class Variable:\n",
        "\n",
        "-Defined\tInside the class, outside any method\n",
        "\n",
        "\n",
        "-Shared\tShared by all instances of the class\n",
        "\n",
        "\n",
        "-Accessed by\tClass name or instance\n",
        "\n",
        "\n",
        "-Memory\tOnly one copy for all instances\n",
        "\n",
        "\n",
        "-Modification\tAffects all instances of the class\n",
        "\n",
        "Instance Variable:\n",
        "\n",
        "\n",
        "-Defined inside the __init__ method or other methods\n",
        "\n",
        "\n",
        "-Shared specific to each object/instance\n",
        "\n",
        "\n",
        "-Accessed instance object\n",
        "\n",
        "\n",
        "-Memory each object has its own copy\n",
        "\n",
        "\n",
        "-Modification affects only the specific instance"
      ],
      "metadata": {
        "id": "0rQrOUBrya7k"
      }
    },
    {
      "cell_type": "code",
      "source": [],
      "metadata": {
        "id": "lE1qER5Tzmq2"
      },
      "execution_count": null,
      "outputs": []
    },
    {
      "cell_type": "markdown",
      "source": [
        "Ques18-->>\n",
        "\n",
        "Ans-->> Multiple inheritance in Python allows a class to inherit from more than one parent class. This means that a subclass can inherit attributes and methods from multiple superclasses, enabling it to combine behavior from all the parent classes. This is one of the key features that make Python more flexible, as it allows classes to have multiple sources of functionality\n",
        "\n",
        "When a class inherits from multiple classes, Python uses a method resolution order to determine the order in which the base classes are searched when calling a method or accessing an attribute. The super() function is often used to help in invoking methods from the parent classes in a controlled manner."
      ],
      "metadata": {
        "id": "yAm4klqPz44n"
      }
    },
    {
      "cell_type": "code",
      "source": [],
      "metadata": {
        "id": "693utolP0Pt_"
      },
      "execution_count": null,
      "outputs": []
    },
    {
      "cell_type": "markdown",
      "source": [
        "Ques19-->>\n",
        "\n",
        "Ans-->> Purpose of __str__and __repr__ Methods\n",
        "\n",
        "1. __str__ Method:\n",
        "   - The `__str__` method is used to define the **informal** string representation of an object, which is meant for **user-friendly output**. It is used when an object is printed or passed to the `str()` function.\n",
        "   - Its main purpose is to return a readable and understandable string that represents the object in a way that is easy for humans to understand.\n",
        "\n",
        "2. **`__repr__` Method**:\n",
        "   - The `__repr__` method is used to define the **formal** string representation of an object. Its goal is to provide an **unambiguous** string that can be used for debugging and development purposes.\n",
        "   - Ideally, the string returned by `__repr__` should allow you to recreate the object, which is why it is typically more detailed than `__str__`.\n",
        "   - If possible, the output of `__repr__` should be a valid Python expression that can recreate the object using `eval()`."
      ],
      "metadata": {
        "id": "XWcX0b_90Rbw"
      }
    },
    {
      "cell_type": "code",
      "source": [],
      "metadata": {
        "id": "749qQyfF1PdW"
      },
      "execution_count": null,
      "outputs": []
    },
    {
      "cell_type": "markdown",
      "source": [
        "Ques20-->>\n",
        "\n",
        "Ans-->> Significance of the super() Function in Python\n",
        "The super() function in Python is used to call a method from a parent class (or superclass) in a class that inherits from it. It plays an important role in inheritance by providing a way for a subclass to access and override methods and properties from its parent class.\n",
        "\n",
        "Key Purposes of super():\n",
        "Accessing Parent Class Methods:\n",
        "\n",
        "When a method in a subclass overrides a method in the parent class, super() allows the subclass to still call the parent class method, ensuring that the functionality of the parent class is retained, and the subclass can build on top of it.\n",
        "\n",
        "Method Resolution Order (MRO):\n",
        "\n",
        "super() helps in resolving the order in which methods are called in the case of multiple inheritance.\n",
        "\n",
        "Avoiding Direct Reference to Parent Class:\n",
        "\n",
        "Instead of explicitly referencing the parent class by name, using super() makes the code more maintainable and flexible. This is especially useful when dealing with multiple inheritance, where you may not know exactly which parent class to refer to."
      ],
      "metadata": {
        "id": "pi2rP1Q61Qt3"
      }
    },
    {
      "cell_type": "code",
      "source": [],
      "metadata": {
        "id": "jGHkK5ua1pOc"
      },
      "execution_count": null,
      "outputs": []
    },
    {
      "cell_type": "markdown",
      "source": [
        "Ques21-->>\n",
        "\n",
        "Ans-->> Significance:\n",
        "\n",
        "The __del__ method in Python is a destructor method. It is called when an object is about to be destroyed or garbage collected. This method is used to define any cleanup actions that need to happen before the object is destroyed, such as releasing resources, closing files, or network connections.\n",
        "\n",
        "Key Purposes of __del__:\n",
        "Resource Cleanup:\n",
        "\n",
        "The primary use of the __del__ method is to release resources that the object may have acquired during its lifetime. This is especially useful for cleaning up resources like open files, database connections, or network sockets.\n",
        "\n",
        "Garbage Collection:\n",
        "\n",
        "The __del__ method allows you to control the final steps before the object is destroyed. While Python's garbage collection mechanism automatically frees memory, __del__ gives you a way to manage any additional cleanup processes."
      ],
      "metadata": {
        "id": "tavTaI7Q1qCQ"
      }
    },
    {
      "cell_type": "code",
      "source": [],
      "metadata": {
        "id": "4WKUjV7V2ADW"
      },
      "execution_count": null,
      "outputs": []
    },
    {
      "cell_type": "markdown",
      "source": [
        "Ques22-->>\n",
        "\n",
        "Ans-->> Difference Between @staticmethod and @classmethod in Python:\n",
        "@staticmethod:\n",
        "\n",
        "A @staticmethod is a method that belongs to a class but does not operate on instances of the class. It does not take self or cls as its first argument. Instead, it behaves like a regular function but is included in the class’s namespace.\n",
        "\n",
        "Usage: It is used when you need to perform an operation that logically belongs to the class but does not require access to class or instance attributes. Static methods do not have access to the instance (self) or class (cls) itself.\n",
        "\n",
        "@classmethod:\n",
        "\n",
        "A @classmethod is a method that is bound to the class, not the instance. The first argument of a class method is cls, which refers to the class itself. Class methods can modify class-level variables or perform operations that are related to the class as a whole, not individual instances.\n",
        "\n",
        "Usage: It is used when you need to operate on or modify class-level attributes or need access to the class itself. A class method can be called on the class itself or on an instance of the class."
      ],
      "metadata": {
        "id": "3k31TpzU2BAr"
      }
    },
    {
      "cell_type": "code",
      "source": [],
      "metadata": {
        "id": "FED7BJdF2YWq"
      },
      "execution_count": null,
      "outputs": []
    },
    {
      "cell_type": "markdown",
      "source": [
        "Ques23-->>\n",
        "\n",
        "Ans-->>\n",
        "Polymorphism is one of the core principles of Object-Oriented Programming  polymorphism allows objects of different classes to be treated as objects of a common superclass. The most common use of polymorphism in Python is through method overriding in inheritance, where a subclass provides a specific implementation of a method that is already defined in its superclass.\n",
        "\n",
        "How Polymorphism Works in Python with Inheritance:\n",
        "Inheritance allows one class to inherit the attributes and methods of another class.\n",
        "\n",
        "Polymorphism allows a subclass to provide its own implementation of a method that is already defined in its superclass, i.e., method overriding.\n",
        "\n",
        "Dynamic Method Dispatch: Python determines at runtime which method to call based on the object's type, even if the method is being called on a reference to the superclass."
      ],
      "metadata": {
        "id": "FLbfbEQz2kDm"
      }
    },
    {
      "cell_type": "code",
      "source": [],
      "metadata": {
        "id": "5phaJvLE2vkq"
      },
      "execution_count": null,
      "outputs": []
    },
    {
      "cell_type": "markdown",
      "source": [
        "Ques24-->>\n",
        "\n",
        "Ans-->>  Method chaining in Python is a programming technique where multiple methods are called sequentially on the same object in a single line of code. This is achieved by having each method return the object itself, usually using the return self statement."
      ],
      "metadata": {
        "id": "CNRQfozH2xTi"
      }
    },
    {
      "cell_type": "code",
      "source": [],
      "metadata": {
        "id": "TbwvUQu73BF5"
      },
      "execution_count": null,
      "outputs": []
    },
    {
      "cell_type": "markdown",
      "source": [
        "Ques25-->>\n",
        "Ans-->>\n",
        "\n",
        "The __call__ method in Python is a special method (also called a dunder method) that allows an object of a class to be called like a function. When a class defines the __call__ method, its instances behave like callable objects.\n",
        "\n",
        "Why __call__ Is Used:\n",
        "It gives function-like behavior to objects.\n",
        "\n",
        "It allows objects to maintain internal state while being used like functions.\n",
        "\n",
        "It supports a clean and flexible syntax when designing classes with dynamic or reusable behavior."
      ],
      "metadata": {
        "id": "Bc6TkwkU3B-O"
      }
    },
    {
      "cell_type": "code",
      "source": [],
      "metadata": {
        "id": "5u0RFTr-3PCp"
      },
      "execution_count": null,
      "outputs": []
    },
    {
      "cell_type": "markdown",
      "source": [
        "**PRACTICAL QUESTIONS**"
      ],
      "metadata": {
        "id": "D1fKUVkr3d11"
      }
    },
    {
      "cell_type": "markdown",
      "source": [
        "Ques1;"
      ],
      "metadata": {
        "id": "fd8tQjoD3rOu"
      }
    },
    {
      "cell_type": "code",
      "source": [
        "\n",
        "class Animal:\n",
        "    def speak(self):\n",
        "        print(\"Animal speaks\")\n",
        "\n",
        "\n",
        "class Dog(Animal):\n",
        "    def speak(self):\n",
        "        print(\"Bark!\")\n",
        "\n",
        "\n",
        "a = Animal()\n",
        "a.speak()\n",
        "\n",
        "d = Dog()\n",
        "d.speak()\n"
      ],
      "metadata": {
        "colab": {
          "base_uri": "https://localhost:8080/"
        },
        "id": "wJE6-55B3t8O",
        "outputId": "f4cea485-f9e9-449d-e742-a4e822975323"
      },
      "execution_count": 1,
      "outputs": [
        {
          "output_type": "stream",
          "name": "stdout",
          "text": [
            "Animal speaks\n",
            "Bark!\n"
          ]
        }
      ]
    },
    {
      "cell_type": "markdown",
      "source": [
        "Ques2;"
      ],
      "metadata": {
        "id": "dq6dGqyT4Oir"
      }
    },
    {
      "cell_type": "code",
      "source": [
        "from abc import ABC, abstractmethod\n",
        "import math\n",
        "\n",
        "\n",
        "class Shape(ABC):\n",
        "    @abstractmethod\n",
        "    def area(self):\n",
        "        pass\n",
        "\n",
        "class Circle(Shape):\n",
        "    def __init__(self, radius):\n",
        "        self.radius = radius\n",
        "\n",
        "    def area(self):\n",
        "        return math.pi * self.radius * self.radius\n",
        "\n",
        "\n",
        "class Rectangle(Shape):\n",
        "    def __init__(self, length, width):\n",
        "        self.length = length\n",
        "        self.width = width\n",
        "\n",
        "    def area(self):\n",
        "        return self.length * self.width\n",
        "\n",
        "\n",
        "c = Circle(5)\n",
        "print(\"Area of Circle:\", c.area())\n",
        "\n",
        "r = Rectangle(4, 6)\n",
        "print(\"Area of Rectangle:\", r.area())\n"
      ],
      "metadata": {
        "colab": {
          "base_uri": "https://localhost:8080/"
        },
        "id": "2C2DxcMv4P7O",
        "outputId": "be1e0c65-b657-4366-d746-59108c5d4620"
      },
      "execution_count": 2,
      "outputs": [
        {
          "output_type": "stream",
          "name": "stdout",
          "text": [
            "Area of Circle: 78.53981633974483\n",
            "Area of Rectangle: 24\n"
          ]
        }
      ]
    },
    {
      "cell_type": "markdown",
      "source": [
        "Ques3;\n"
      ],
      "metadata": {
        "id": "aUfFQ32g4gtE"
      }
    },
    {
      "cell_type": "code",
      "source": [
        "\n",
        "class Vehicle:\n",
        "    def __init__(self, vehicle_type):\n",
        "        self.type = vehicle_type\n",
        "\n",
        "class Car(Vehicle):\n",
        "    def __init__(self, vehicle_type, brand):\n",
        "        super().__init__(vehicle_type)\n",
        "        self.brand = brand\n",
        "\n",
        "class ElectricCar(Car):\n",
        "    def __init__(self, vehicle_type, brand, battery):\n",
        "        super().__init__(vehicle_type, brand)\n",
        "        self.battery = battery\n",
        "\n",
        "    def display_info(self):\n",
        "        print(f\"Type: {self.type}\")\n",
        "        print(f\"Brand: {self.brand}\")\n",
        "        print(f\"Battery: {self.battery} kWh\")\n",
        "\n",
        "\n",
        "e_car = ElectricCar(\"Electric\", \"Tesla\", 75)\n",
        "e_car.display_info()\n"
      ],
      "metadata": {
        "colab": {
          "base_uri": "https://localhost:8080/"
        },
        "id": "TVVmMUfo4ilD",
        "outputId": "00fc3d8c-21e1-4f98-8e5b-0696e2f835ca"
      },
      "execution_count": 3,
      "outputs": [
        {
          "output_type": "stream",
          "name": "stdout",
          "text": [
            "Type: Electric\n",
            "Brand: Tesla\n",
            "Battery: 75 kWh\n"
          ]
        }
      ]
    },
    {
      "cell_type": "markdown",
      "source": [
        "Ques4;\n"
      ],
      "metadata": {
        "id": "6V9FpCIj43kd"
      }
    },
    {
      "cell_type": "code",
      "source": [
        "\n",
        "class Bird:\n",
        "    def fly(self):\n",
        "        print(\"Bird can fly\")\n",
        "\n",
        "class Sparrow(Bird):\n",
        "    def fly(self):\n",
        "        print(\"Sparrow flies high in the sky\")\n",
        "\n",
        "\n",
        "class Penguin(Bird):\n",
        "    def fly(self):\n",
        "        print(\"Penguins cannot fly\")\n",
        "\n",
        "\n",
        "def show_flight(bird):\n",
        "    bird.fly()\n",
        "\n",
        "\n",
        "s = Sparrow()\n",
        "p = Penguin()\n",
        "\n",
        "show_flight(s)\n",
        "show_flight(p)\n"
      ],
      "metadata": {
        "colab": {
          "base_uri": "https://localhost:8080/"
        },
        "id": "VBG5Sy8v453n",
        "outputId": "7b415aa9-3b56-43b5-e722-9dbe90aadce3"
      },
      "execution_count": 4,
      "outputs": [
        {
          "output_type": "stream",
          "name": "stdout",
          "text": [
            "Sparrow flies high in the sky\n",
            "Penguins cannot fly\n"
          ]
        }
      ]
    },
    {
      "cell_type": "markdown",
      "source": [
        "Ques5;"
      ],
      "metadata": {
        "id": "I9Bs-daJ5J28"
      }
    },
    {
      "cell_type": "code",
      "source": [
        "class BankAccount:\n",
        "    def __init__(self, initial_balance):\n",
        "        self.__balance = initial_balance\n",
        "\n",
        "    def deposit(self, amount):\n",
        "        if amount > 0:\n",
        "            self.__balance += amount\n",
        "            print(f\"Deposited: ₹{amount}\")\n",
        "        else:\n",
        "            print(\"Invalid deposit amount\")\n",
        "\n",
        "    def withdraw(self, amount):\n",
        "        if 0 < amount <= self.__balance:\n",
        "            self.__balance -= amount\n",
        "            print(f\"Withdrew: ₹{amount}\")\n",
        "        else:\n",
        "            print(\"Insufficient balance or invalid amount\")\n",
        "\n",
        "    def check_balance(self):\n",
        "        print(f\"Current Balance: ₹{self.__balance}\")\n",
        "\n",
        "\n",
        "account = BankAccount(1000)\n",
        "account.deposit(500)\n",
        "account.withdraw(300)\n",
        "account.check_balance()\n"
      ],
      "metadata": {
        "colab": {
          "base_uri": "https://localhost:8080/"
        },
        "id": "CnpwJxrR5LTx",
        "outputId": "42d9382e-360e-419a-88cb-4861f4d8823d"
      },
      "execution_count": 5,
      "outputs": [
        {
          "output_type": "stream",
          "name": "stdout",
          "text": [
            "Deposited: ₹500\n",
            "Withdrew: ₹300\n",
            "Current Balance: ₹1200\n"
          ]
        }
      ]
    },
    {
      "cell_type": "markdown",
      "source": [
        "Ques6;"
      ],
      "metadata": {
        "id": "3M3ZQFNR5YIa"
      }
    },
    {
      "cell_type": "code",
      "source": [
        "\n",
        "class Instrument:\n",
        "    def play(self):\n",
        "        print(\"Playing an instrument\")\n",
        "\n",
        "\n",
        "class Guitar(Instrument):\n",
        "    def play(self):\n",
        "        print(\"Strumming the guitar\")\n",
        "\n",
        "class Piano(Instrument):\n",
        "    def play(self):\n",
        "        print(\"Playing the piano\")\n",
        "\n",
        "\n",
        "def perform(instrument):\n",
        "    instrument.play()\n",
        "\n",
        "\n",
        "g = Guitar()\n",
        "p = Piano()\n",
        "\n",
        "perform(g)\n",
        "perform(p)\n"
      ],
      "metadata": {
        "colab": {
          "base_uri": "https://localhost:8080/"
        },
        "id": "cUEIa4sm5ZcI",
        "outputId": "f96eafdf-cd3c-4753-897c-d11cb83c25ec"
      },
      "execution_count": 7,
      "outputs": [
        {
          "output_type": "stream",
          "name": "stdout",
          "text": [
            "Strumming the guitar\n",
            "Playing the piano\n"
          ]
        }
      ]
    },
    {
      "cell_type": "markdown",
      "source": [
        "Ques7;"
      ],
      "metadata": {
        "id": "4md4IaeD5tcQ"
      }
    },
    {
      "cell_type": "code",
      "source": [
        "class MathOperations:\n",
        "\n",
        "    @classmethod\n",
        "    def add_numbers(cls, num1, num2):\n",
        "        return num1 + num2\n",
        "\n",
        "    @staticmethod\n",
        "    def subtract_numbers(num1, num2):\n",
        "        return num1 - num2\n",
        "\n",
        "\n",
        "sum_result = MathOperations.add_numbers(10, 5)\n",
        "difference_result = MathOperations.subtract_numbers(10, 5)\n",
        "\n",
        "print(f\"Sum: {sum_result}\")\n",
        "print(f\"Difference: {difference_result}\")\n"
      ],
      "metadata": {
        "colab": {
          "base_uri": "https://localhost:8080/"
        },
        "id": "qGaMbJYb5vjX",
        "outputId": "38399388-0e80-4752-b13e-82414143c83d"
      },
      "execution_count": 8,
      "outputs": [
        {
          "output_type": "stream",
          "name": "stdout",
          "text": [
            "Sum: 15\n",
            "Difference: 5\n"
          ]
        }
      ]
    },
    {
      "cell_type": "markdown",
      "source": [
        "Ques8;"
      ],
      "metadata": {
        "id": "a2xe6vuj57oi"
      }
    },
    {
      "cell_type": "code",
      "source": [
        "class Person:\n",
        "\n",
        "    total_persons = 0\n",
        "\n",
        "    def __init__(self, name, age):\n",
        "        self.name = name\n",
        "        self.age = age\n",
        "\n",
        "        Person.total_persons += 1\n",
        "\n",
        "\n",
        "    @classmethod\n",
        "    def count_persons(cls):\n",
        "        return cls.total_persons\n",
        "\n",
        "\n",
        "p1 = Person(\"Alice\", 25)\n",
        "p2 = Person(\"Bob\", 30)\n",
        "p3 = Person(\"Charlie\", 22)\n",
        "\n",
        "\n",
        "print(f\"Total persons created: {Person.count_persons()}\")\n"
      ],
      "metadata": {
        "colab": {
          "base_uri": "https://localhost:8080/"
        },
        "id": "BOIDd8zy59H9",
        "outputId": "a7f3c5c0-2436-4c75-a7bf-3e954007e497"
      },
      "execution_count": 9,
      "outputs": [
        {
          "output_type": "stream",
          "name": "stdout",
          "text": [
            "Total persons created: 3\n"
          ]
        }
      ]
    },
    {
      "cell_type": "markdown",
      "source": [
        "Ques9;"
      ],
      "metadata": {
        "id": "nRgwYLqL6R0X"
      }
    },
    {
      "cell_type": "code",
      "source": [
        "class Fraction:\n",
        "    def __init__(self, numerator, denominator):\n",
        "        self.numerator = numerator\n",
        "        self.denominator = denominator\n",
        "\n",
        "\n",
        "    def __str__(self):\n",
        "        return f\"{self.numerator}/{self.denominator}\"\n",
        "\n",
        "\n",
        "fraction1 = Fraction(3, 4)\n",
        "fraction2 = Fraction(5, 6)\n",
        "\n",
        "print(f\"Fraction 1: {fraction1}\")\n",
        "print(f\"Fraction 2: {fraction2}\")\n"
      ],
      "metadata": {
        "colab": {
          "base_uri": "https://localhost:8080/"
        },
        "id": "4PQlH8vh6TJu",
        "outputId": "862f6841-b59f-4115-ec3d-0e6806a16d64"
      },
      "execution_count": 10,
      "outputs": [
        {
          "output_type": "stream",
          "name": "stdout",
          "text": [
            "Fraction 1: 3/4\n",
            "Fraction 2: 5/6\n"
          ]
        }
      ]
    },
    {
      "cell_type": "markdown",
      "source": [
        "Ques10;"
      ],
      "metadata": {
        "id": "O6tcT-jR6smF"
      }
    },
    {
      "cell_type": "code",
      "source": [
        "class Vector:\n",
        "    def __init__(self, x, y):\n",
        "        self.x = x\n",
        "        self.y = y\n",
        "\n",
        "\n",
        "    def __add__(self, other):\n",
        "        if isinstance(other, Vector):\n",
        "            return Vector(self.x + other.x, self.y + other.y)\n",
        "        return NotImplemented\n",
        "\n",
        "\n",
        "    def __str__(self):\n",
        "        return f\"({self.x}, {self.y})\"\n",
        "\n",
        "\n",
        "v1 = Vector(2, 3)\n",
        "v2 = Vector(4, 5)\n",
        "\n",
        "v3 = v1 + v2\n",
        "\n",
        "print(f\"Vector 1: {v1}\")\n",
        "print(f\"Vector 2: {v2}\")\n",
        "print(f\"Sum of Vectors: {v3}\")"
      ],
      "metadata": {
        "colab": {
          "base_uri": "https://localhost:8080/"
        },
        "id": "Qigal7Y86u6w",
        "outputId": "657d7546-fee3-4b30-865f-a3a90f8b7fd1"
      },
      "execution_count": 11,
      "outputs": [
        {
          "output_type": "stream",
          "name": "stdout",
          "text": [
            "Vector 1: (2, 3)\n",
            "Vector 2: (4, 5)\n",
            "Sum of Vectors: (6, 8)\n"
          ]
        }
      ]
    },
    {
      "cell_type": "markdown",
      "source": [
        "Ques11;"
      ],
      "metadata": {
        "id": "UrMJdI1O7B2w"
      }
    },
    {
      "cell_type": "code",
      "source": [
        "class Person:\n",
        "    def __init__(self, name, age):\n",
        "        self.name = name\n",
        "        self.age = age\n",
        "\n",
        "    def greet(self):\n",
        "        print(f\"Hello, my name is {self.name} and I am {self.age} years old.\")\n",
        "\n",
        "\n",
        "person1 = Person(\"Alice\", 25)\n",
        "person2 = Person(\"Bob\", 30)\n",
        "\n",
        "person1.greet()\n",
        "person2.greet()"
      ],
      "metadata": {
        "colab": {
          "base_uri": "https://localhost:8080/"
        },
        "id": "QuOQ7VH_7EPt",
        "outputId": "e240e396-034a-41f5-a082-020852c19402"
      },
      "execution_count": 12,
      "outputs": [
        {
          "output_type": "stream",
          "name": "stdout",
          "text": [
            "Hello, my name is Alice and I am 25 years old.\n",
            "Hello, my name is Bob and I am 30 years old.\n"
          ]
        }
      ]
    },
    {
      "cell_type": "markdown",
      "source": [
        "Ques12;"
      ],
      "metadata": {
        "id": "CBmEDJ_r7QtA"
      }
    },
    {
      "cell_type": "code",
      "source": [
        "class Student:\n",
        "    def __init__(self, name, grades):\n",
        "        self.name = name\n",
        "        self.grades = grades\n",
        "\n",
        "    def average_grade(self):\n",
        "        if len(self.grades) > 0:\n",
        "            return sum(self.grades) / len(self.grades)\n",
        "        else:\n",
        "            return 0\n",
        "\n",
        "student1 = Student(\"Alice\", [85, 90, 78, 92])\n",
        "student2 = Student(\"Bob\", [70, 75, 80, 68])\n",
        "\n",
        "print(f\"{student1.name}'s Average Grade: {student1.average_grade()}\")\n",
        "print(f\"{student2.name}'s Average Grade: {student2.average_grade()}\")\n"
      ],
      "metadata": {
        "colab": {
          "base_uri": "https://localhost:8080/"
        },
        "id": "ZHi9XmDa7SEB",
        "outputId": "472a7f14-025a-4888-9991-3b872493ae5d"
      },
      "execution_count": 13,
      "outputs": [
        {
          "output_type": "stream",
          "name": "stdout",
          "text": [
            "Alice's Average Grade: 86.25\n",
            "Bob's Average Grade: 73.25\n"
          ]
        }
      ]
    },
    {
      "cell_type": "markdown",
      "source": [
        "Ques13;\n"
      ],
      "metadata": {
        "id": "-9rdEYZ-7oMX"
      }
    },
    {
      "cell_type": "code",
      "source": [
        "class Rectangle:\n",
        "    def __init__(self):\n",
        "        self.length = 0\n",
        "        self.width = 0\n",
        "\n",
        "    def set_dimensions(self, length, width):\n",
        "        self.length = length\n",
        "        self.width = width\n",
        "\n",
        "    def area(self):\n",
        "        return self.length * self.width\n",
        "\n",
        "\n",
        "rectangle1 = Rectangle()\n",
        "rectangle1.set_dimensions(5, 3)\n",
        "print(f\"Area of Rectangle: {rectangle1.area()}\")\n",
        "\n",
        "rectangle2 = Rectangle()\n",
        "rectangle2.set_dimensions(7, 4)\n",
        "print(f\"Area of Rectangle: {rectangle2.area()}\")\n"
      ],
      "metadata": {
        "colab": {
          "base_uri": "https://localhost:8080/"
        },
        "id": "LE-P_4PH7pr3",
        "outputId": "293f0c8c-52f0-436b-f32d-62a8e91534ca"
      },
      "execution_count": 14,
      "outputs": [
        {
          "output_type": "stream",
          "name": "stdout",
          "text": [
            "Area of Rectangle: 15\n",
            "Area of Rectangle: 28\n"
          ]
        }
      ]
    },
    {
      "cell_type": "markdown",
      "source": [
        "Ques14;"
      ],
      "metadata": {
        "id": "MkC4VRyE71rs"
      }
    },
    {
      "cell_type": "code",
      "source": [
        "class Employee:\n",
        "    def __init__(self, name, hours_worked, hourly_rate):\n",
        "        self.name = name\n",
        "        self.hours_worked = hours_worked\n",
        "        self.hourly_rate = hourly_rate\n",
        "\n",
        "    def calculate_salary(self):\n",
        "\n",
        "        return self.hours_worked * self.hourly_rate\n",
        "\n",
        "\n",
        "class Manager(Employee):\n",
        "    def __init__(self, name, hours_worked, hourly_rate, bonus):\n",
        "        super().__init__(name, hours_worked, hourly_rate)\n",
        "        self.bonus = bonus\n",
        "\n",
        "    def calculate_salary(self):\n",
        "\n",
        "        base_salary = super().calculate_salary()\n",
        "        return base_salary + self.bonus\n",
        "\n",
        "\n",
        "employee = Employee(\"John\", 40, 25)\n",
        "manager = Manager(\"Alice\", 40, 30, 500)\n",
        "\n",
        "print(f\"Employee's Salary: {employee.calculate_salary()}\")\n",
        "print(f\"Manager's Salary: {manager.calculate_salary()}\")\n"
      ],
      "metadata": {
        "colab": {
          "base_uri": "https://localhost:8080/"
        },
        "id": "lSeeqsi073SL",
        "outputId": "6538a722-7386-400f-bf10-1d9b4de04924"
      },
      "execution_count": 15,
      "outputs": [
        {
          "output_type": "stream",
          "name": "stdout",
          "text": [
            "Employee's Salary: 1000\n",
            "Manager's Salary: 1700\n"
          ]
        }
      ]
    },
    {
      "cell_type": "markdown",
      "source": [
        "Ques15;"
      ],
      "metadata": {
        "id": "Jq_r2XCp8GLF"
      }
    },
    {
      "cell_type": "code",
      "source": [
        "class Product:\n",
        "    def __init__(self, name, price, quantity):\n",
        "        self.name = name\n",
        "        self.price = price\n",
        "        self.quantity = quantity\n",
        "\n",
        "    def total_price(self):\n",
        "\n",
        "        return self.price * self.quantity\n",
        "\n",
        "\n",
        "product1 = Product(\"Laptop\", 1000, 3)\n",
        "product2 = Product(\"Phone\", 500, 5)\n",
        "\n",
        "print(f\"Total price of {product1.name}: ₹{product1.total_price()}\")\n",
        "print(f\"Total price of {product2.name}: ₹{product2.total_price()}\")"
      ],
      "metadata": {
        "colab": {
          "base_uri": "https://localhost:8080/"
        },
        "id": "l7n6gJan8H5y",
        "outputId": "60021c0a-eff0-452c-ab14-278124e1c1c2"
      },
      "execution_count": 16,
      "outputs": [
        {
          "output_type": "stream",
          "name": "stdout",
          "text": [
            "Total price of Laptop: ₹3000\n",
            "Total price of Phone: ₹2500\n"
          ]
        }
      ]
    },
    {
      "cell_type": "markdown",
      "source": [
        "Ques16;"
      ],
      "metadata": {
        "id": "DgmQeWZU8VDF"
      }
    },
    {
      "cell_type": "code",
      "source": [
        "from abc import ABC, abstractmethod\n",
        "\n",
        "\n",
        "class Animal(ABC):\n",
        "\n",
        "    @abstractmethod\n",
        "    def sound(self):\n",
        "        pass\n",
        "\n",
        "\n",
        "class Cow(Animal):\n",
        "    def sound(self):\n",
        "        return \"Moo\"\n",
        "\n",
        "\n",
        "class Sheep(Animal):\n",
        "    def sound(self):\n",
        "        return \"Baa\"\n",
        "\n",
        "\n",
        "cow = Cow()\n",
        "sheep = Sheep()\n",
        "\n",
        "print(f\"Cow sound: {cow.sound()}\")\n",
        "print(f\"Sheep sound: {sheep.sound()}\")\n"
      ],
      "metadata": {
        "colab": {
          "base_uri": "https://localhost:8080/"
        },
        "id": "9jPwv10Y8WSO",
        "outputId": "5fad5c8c-cca0-45fc-b778-12da7613fe70"
      },
      "execution_count": 17,
      "outputs": [
        {
          "output_type": "stream",
          "name": "stdout",
          "text": [
            "Cow sound: Moo\n",
            "Sheep sound: Baa\n"
          ]
        }
      ]
    },
    {
      "cell_type": "markdown",
      "source": [
        "Ques17;\n"
      ],
      "metadata": {
        "id": "ZzI7oZR08k3o"
      }
    },
    {
      "cell_type": "code",
      "source": [
        "class Book:\n",
        "    def __init__(self, title, author, year_published):\n",
        "        self.title = title\n",
        "        self.author = author\n",
        "        self.year_published = year_published\n",
        "\n",
        "    def get_book_info(self):\n",
        "\n",
        "        return f\"'{self.title}' by {self.author}, published in {self.year_published}\"\n",
        "\n",
        "\n",
        "book1 = Book(\"The Great Gatsby\", \"F. Scott Fitzgerald\", 1925)\n",
        "book2 = Book(\"1984\", \"George Orwell\", 1949)\n",
        "\n",
        "print(book1.get_book_info())\n",
        "print(book2.get_book_info())\n"
      ],
      "metadata": {
        "colab": {
          "base_uri": "https://localhost:8080/"
        },
        "id": "995JaKNE8uAJ",
        "outputId": "fc294432-899e-4143-fbd6-03d45e4abcf0"
      },
      "execution_count": 18,
      "outputs": [
        {
          "output_type": "stream",
          "name": "stdout",
          "text": [
            "'The Great Gatsby' by F. Scott Fitzgerald, published in 1925\n",
            "'1984' by George Orwell, published in 1949\n"
          ]
        }
      ]
    },
    {
      "cell_type": "code",
      "source": [
        "#Ques18;"
      ],
      "metadata": {
        "id": "dzxaiBI688Ee"
      },
      "execution_count": 20,
      "outputs": []
    },
    {
      "cell_type": "code",
      "source": [
        "\n",
        "class House:\n",
        "    def __init__(self, address, price):\n",
        "        self.address = address\n",
        "        self.price = price\n",
        "\n",
        "    def get_house_info(self):\n",
        "        return f\"Address: {self.address}, Price: ${self.price}\"\n",
        "\n",
        "class Mansion(House):\n",
        "    def __init__(self, address, price, number_of_rooms):\n",
        "\n",
        "        super().__init__(address, price)\n",
        "        self.number_of_rooms = number_of_rooms\n",
        "\n",
        "    def get_mansion_info(self):\n",
        "\n",
        "        return f\"{self.get_house_info()}, Number of rooms: {self.number_of_rooms}\"\n",
        "\n",
        "house1 = House(\"123 Main St\", 250000)\n",
        "mansion1 = Mansion(\"456 Luxury Ave\", 5000000, 15)\n",
        "\n",
        "\n",
        "print(house1.get_house_info())\n",
        "print(mansion1.get_mansion_info())"
      ],
      "metadata": {
        "colab": {
          "base_uri": "https://localhost:8080/"
        },
        "id": "OMg8KJKZ9Ask",
        "outputId": "b29c0a73-9e63-49df-8458-0c02b4a5cee0"
      },
      "execution_count": 21,
      "outputs": [
        {
          "output_type": "stream",
          "name": "stdout",
          "text": [
            "Address: 123 Main St, Price: $250000\n",
            "Address: 456 Luxury Ave, Price: $5000000, Number of rooms: 15\n"
          ]
        }
      ]
    },
    {
      "cell_type": "code",
      "source": [],
      "metadata": {
        "id": "AMMAulAu9SSc"
      },
      "execution_count": null,
      "outputs": []
    }
  ]
}